{
 "cells": [
  {
   "cell_type": "code",
   "execution_count": 1,
   "metadata": {},
   "outputs": [],
   "source": [
    "from ct.ETL.load import Load"
   ]
  },
  {
   "cell_type": "code",
   "execution_count": 2,
   "metadata": {},
   "outputs": [],
   "source": [
    "carga = Load()"
   ]
  },
  {
   "cell_type": "code",
   "execution_count": 3,
   "metadata": {},
   "outputs": [
    {
     "name": "stdout",
     "output_type": "stream",
     "text": [
      "Productos transformados obtenidos.\n",
      "Cantidad de claves únicas: 1\n",
      "Especificaciones obtenidas.\n",
      "Transformación de especificaciones completada.\n",
      "dict_keys(['nombre', 'clave', 'categoria', 'marca', 'tipo', 'modelo', 'detalles', 'detalles_precio', 'moneda', 'fichaTecnica', 'resumen'])\n",
      "{   'categoria': 'Bobinas',\n",
      "    'clave': 'ACCCDM1010',\n",
      "    'detalles': '664464 CABLE UTP CAT 5E EXT/GEL 305M NEG ACCCDM1010, Cable '\n",
      "                'UTP, Bobinas, CONDUMEX, condumex, bobinas, cables, red, utp, '\n",
      "                'estructurado, cat5, cat6, interior, exterior, cobre, ACC, '\n",
      "                'CDM, ACCCDM',\n",
      "    'detalles_precio': [   {'listaPrecio': 1, 'precio': 3000},\n",
      "                           {'listaPrecio': 2, 'precio': 3000},\n",
      "                           {'listaPrecio': 3, 'precio': 3000},\n",
      "                           {'listaPrecio': 4, 'precio': 3000},\n",
      "                           {'listaPrecio': 5, 'precio': 3000},\n",
      "                           {'listaPrecio': 6, 'precio': 3009},\n",
      "                           {'listaPrecio': 8, 'precio': 3000},\n",
      "                           {'listaPrecio': 9, 'precio': 3000}],\n",
      "    'fichaTecnica': {   'Blindaje de cable': 'U/UTP (UTP)',\n",
      "                        'Cable estándar': 'Cat5e',\n",
      "                        'Color del producto': 'Negro',\n",
      "                        'Conector 1': 'No',\n",
      "                        'Conector 2': 'No',\n",
      "                        'Estándares de red': 'IEEE 802.3, IEEE 802.3ab',\n",
      "                        'Longitud de cable': '305 m',\n",
      "                        'Peso': '35 kg',\n",
      "                        'Tecnología de cableado': '10/100/1000Base-T(X)',\n",
      "                        'Tipo de género': 'Macho/Macho',\n",
      "                        'Velocidad de transferencia de datos': '155 Mbit/s'},\n",
      "    'marca': 'CONDUMEX',\n",
      "    'modelo': '664464',\n",
      "    'moneda': 1,\n",
      "    'nombre': 'Cable UTP CAT5e para exterior , 4 pares, bobina de 305 mts, '\n",
      "              '100% cobre, color negro ',\n",
      "    'resumen': {   'LongSummary': 'Condumex 305m, UTP. Longitud de cable: 305 '\n",
      "                                  'm, Cable estándar: Cat5e, Tipo de género: '\n",
      "                                  'Macho/Macho. Peso: 35 kg',\n",
      "                   'ShortSummary': 'Condumex 305m, UTP, Macho/Macho, '\n",
      "                                   '10/100/1000Base-T(X), Cat5e, U/UTP (UTP), '\n",
      "                                   'Negro, IEEE 802.3, IEEE 802.3ab'},\n",
      "    'tipo': 'Cable UTP'}\n",
      "Vector store created and saved to disk.\n"
     ]
    }
   ],
   "source": [
    "productos = carga.products_vs()"
   ]
  },
  {
   "cell_type": "markdown",
   "metadata": {},
   "source": [
    "> 75 min -> 5149 docs"
   ]
  },
  {
   "cell_type": "code",
   "execution_count": 4,
   "metadata": {},
   "outputs": [
    {
     "ename": "IndexError",
     "evalue": "list index out of range",
     "output_type": "error",
     "traceback": [
      "\u001b[31m---------------------------------------------------------------------------\u001b[39m",
      "\u001b[31mIndexError\u001b[39m                                Traceback (most recent call last)",
      "\u001b[36mCell\u001b[39m\u001b[36m \u001b[39m\u001b[32mIn[4]\u001b[39m\u001b[32m, line 1\u001b[39m\n\u001b[32m----> \u001b[39m\u001b[32m1\u001b[39m promociones_productos = \u001b[43mcarga\u001b[49m\u001b[43m.\u001b[49m\u001b[43msales_products_vs\u001b[49m\u001b[43m(\u001b[49m\u001b[43m)\u001b[49m\n",
      "\u001b[36mFile \u001b[39m\u001b[32m~\\Documents\\proyectoCT\\src\\ct\\ETL\\load.py:68\u001b[39m, in \u001b[36mLoad.sales_products_vs\u001b[39m\u001b[34m(self)\u001b[39m\n\u001b[32m     67\u001b[39m \u001b[38;5;28;01mdef\u001b[39;00m\u001b[38;5;250m \u001b[39m\u001b[34msales_products_vs\u001b[39m(\u001b[38;5;28mself\u001b[39m):\n\u001b[32m---> \u001b[39m\u001b[32m68\u001b[39m     sales = \u001b[38;5;28;43mself\u001b[39;49m\u001b[43m.\u001b[49m\u001b[43mload_sales\u001b[49m\u001b[43m(\u001b[49m\u001b[43m)\u001b[49m\n\u001b[32m     70\u001b[39m     \u001b[38;5;66;03m# --- Batch size ---\u001b[39;00m\n\u001b[32m     71\u001b[39m     batch_size = \u001b[32m1000\u001b[39m\n",
      "\u001b[36mFile \u001b[39m\u001b[32m~\\Documents\\proyectoCT\\src\\ct\\ETL\\load.py:32\u001b[39m, in \u001b[36mLoad.load_sales\u001b[39m\u001b[34m(self)\u001b[39m\n\u001b[32m     31\u001b[39m \u001b[38;5;28;01mdef\u001b[39;00m\u001b[38;5;250m \u001b[39m\u001b[34mload_sales\u001b[39m(\u001b[38;5;28mself\u001b[39m):\n\u001b[32m---> \u001b[39m\u001b[32m32\u001b[39m     sales = \u001b[38;5;28;43mself\u001b[39;49m\u001b[43m.\u001b[49m\u001b[43mclean_data\u001b[49m\u001b[43m.\u001b[49m\u001b[43mclean_sales\u001b[49m\u001b[43m(\u001b[49m\u001b[43m)\u001b[49m\n\u001b[32m     34\u001b[39m     sale = sales[\u001b[32m0\u001b[39m]\n\u001b[32m     35\u001b[39m     sales_features = [column \u001b[38;5;28;01mfor\u001b[39;00m column \u001b[38;5;129;01min\u001b[39;00m sale.keys()]\n",
      "\u001b[36mFile \u001b[39m\u001b[32m~\\Documents\\proyectoCT\\src\\ct\\ETL\\transform.py:120\u001b[39m, in \u001b[36mTransform.clean_sales\u001b[39m\u001b[34m(self)\u001b[39m\n\u001b[32m    118\u001b[39m         sale[\u001b[33m'\u001b[39m\u001b[33mfichaTecnica\u001b[39m\u001b[33m'\u001b[39m] = ficha[\u001b[33m'\u001b[39m\u001b[33mfichaTecnica\u001b[39m\u001b[33m'\u001b[39m]\n\u001b[32m    119\u001b[39m         sale[\u001b[33m'\u001b[39m\u001b[33mresumen\u001b[39m\u001b[33m'\u001b[39m] = ficha[\u001b[33m'\u001b[39m\u001b[33mresumen\u001b[39m\u001b[33m'\u001b[39m]\n\u001b[32m--> \u001b[39m\u001b[32m120\u001b[39m pprint.pprint(\u001b[43msales_dict\u001b[49m\u001b[43m[\u001b[49m\u001b[32;43m0\u001b[39;49m\u001b[43m]\u001b[49m.keys(), indent=\u001b[32m4\u001b[39m)\n\u001b[32m    121\u001b[39m pprint.pprint(sales_dict[\u001b[32m0\u001b[39m], indent=\u001b[32m4\u001b[39m)\n\u001b[32m    122\u001b[39m \u001b[38;5;28;01mreturn\u001b[39;00m sales_dict\n",
      "\u001b[31mIndexError\u001b[39m: list index out of range"
     ]
    }
   ],
   "source": [
    "promociones_productos = carga.sales_products_vs()"
   ]
  },
  {
   "cell_type": "code",
   "execution_count": null,
   "metadata": {},
   "outputs": [],
   "source": []
  }
 ],
 "metadata": {
  "kernelspec": {
   "display_name": ".venv",
   "language": "python",
   "name": "python3"
  },
  "language_info": {
   "codemirror_mode": {
    "name": "ipython",
    "version": 3
   },
   "file_extension": ".py",
   "mimetype": "text/x-python",
   "name": "python",
   "nbconvert_exporter": "python",
   "pygments_lexer": "ipython3",
   "version": "3.12.9"
  }
 },
 "nbformat": 4,
 "nbformat_minor": 2
}
