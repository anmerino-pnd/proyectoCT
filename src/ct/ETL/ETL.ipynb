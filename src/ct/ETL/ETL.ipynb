{
 "cells": [
  {
   "cell_type": "code",
   "execution_count": 1,
   "metadata": {},
   "outputs": [],
   "source": [
    "from ct.ETL.load import Load"
   ]
  },
  {
   "cell_type": "code",
   "execution_count": 2,
   "metadata": {},
   "outputs": [
    {
     "ename": "RuntimeError",
     "evalue": "[ACCCDM1010] Error inesperado: [ACCCDM1010] HTML inesperado (posible redirección de IP)",
     "output_type": "error",
     "traceback": [
      "\u001b[31m---------------------------------------------------------------------------\u001b[39m",
      "\u001b[31mRuntimeError\u001b[39m                              Traceback (most recent call last)",
      "\u001b[36mFile \u001b[39m\u001b[32m~\\Documents\\proyectoCT\\src\\ct\\ETL\\extraction.py:249\u001b[39m, in \u001b[36mExtraction.get_specifications_cloudscraper\u001b[39m\u001b[34m(self, claves)\u001b[39m\n\u001b[32m    248\u001b[39m \u001b[38;5;28;01mif\u001b[39;00m response.text.strip().startswith(\u001b[33m'\u001b[39m\u001b[33m<!DOCTYPE html>\u001b[39m\u001b[33m'\u001b[39m) \u001b[38;5;129;01mor\u001b[39;00m \u001b[33m'\u001b[39m\u001b[33m<html\u001b[39m\u001b[33m'\u001b[39m \u001b[38;5;129;01min\u001b[39;00m response.text.lower():\n\u001b[32m--> \u001b[39m\u001b[32m249\u001b[39m     \u001b[38;5;28;01mraise\u001b[39;00m \u001b[38;5;167;01mRuntimeError\u001b[39;00m(\u001b[33mf\u001b[39m\u001b[33m\"\u001b[39m\u001b[33m[\u001b[39m\u001b[38;5;132;01m{\u001b[39;00mclave\u001b[38;5;132;01m}\u001b[39;00m\u001b[33m] HTML inesperado (posible redirección de IP)\u001b[39m\u001b[33m\"\u001b[39m)\n\u001b[32m    250\u001b[39m \u001b[38;5;28;01melse\u001b[39;00m:\n",
      "\u001b[31mRuntimeError\u001b[39m: [ACCCDM1010] HTML inesperado (posible redirección de IP)",
      "\nDuring handling of the above exception, another exception occurred:\n",
      "\u001b[31mRuntimeError\u001b[39m                              Traceback (most recent call last)",
      "\u001b[36mCell\u001b[39m\u001b[36m \u001b[39m\u001b[32mIn[2]\u001b[39m\u001b[32m, line 1\u001b[39m\n\u001b[32m----> \u001b[39m\u001b[32m1\u001b[39m \u001b[43mLoad\u001b[49m\u001b[43m(\u001b[49m\u001b[43m)\u001b[49m\u001b[43m.\u001b[49m\u001b[43mmongo_products\u001b[49m\u001b[43m(\u001b[49m\u001b[43m)\u001b[49m                \n",
      "\u001b[36mFile \u001b[39m\u001b[32m~\\Documents\\proyectoCT\\src\\ct\\ETL\\load.py:28\u001b[39m, in \u001b[36mLoad.mongo_products\u001b[39m\u001b[34m(self)\u001b[39m\n\u001b[32m     27\u001b[39m \u001b[38;5;28;01mdef\u001b[39;00m\u001b[38;5;250m \u001b[39m\u001b[34mmongo_products\u001b[39m(\u001b[38;5;28mself\u001b[39m):\n\u001b[32m---> \u001b[39m\u001b[32m28\u001b[39m     products = \u001b[38;5;28;43mself\u001b[39;49m\u001b[43m.\u001b[49m\u001b[43mclean_data\u001b[49m\u001b[43m.\u001b[49m\u001b[43mclean_products\u001b[49m\u001b[43m(\u001b[49m\u001b[43m)\u001b[49m\n\u001b[32m     29\u001b[39m     \u001b[38;5;28;01mfor\u001b[39;00m product \u001b[38;5;129;01min\u001b[39;00m products:\n\u001b[32m     30\u001b[39m         clave = product.get(\u001b[33m\"\u001b[39m\u001b[33mclave\u001b[39m\u001b[33m\"\u001b[39m)\n",
      "\u001b[36mFile \u001b[39m\u001b[32m~\\Documents\\proyectoCT\\src\\ct\\ETL\\transform.py:71\u001b[39m, in \u001b[36mTransform.clean_products\u001b[39m\u001b[34m(self)\u001b[39m\n\u001b[32m     69\u001b[39m products = \u001b[38;5;28mself\u001b[39m.transform_products()\n\u001b[32m     70\u001b[39m claves = products[\u001b[33m'\u001b[39m\u001b[33mclave\u001b[39m\u001b[33m'\u001b[39m].unique().tolist()\n\u001b[32m---> \u001b[39m\u001b[32m71\u001b[39m specs = \u001b[38;5;28;43mself\u001b[39;49m\u001b[43m.\u001b[49m\u001b[43mdata\u001b[49m\u001b[43m.\u001b[49m\u001b[43mget_specifications\u001b[49m\u001b[43m(\u001b[49m\u001b[43mclaves\u001b[49m\u001b[43m)\u001b[49m\n\u001b[32m     72\u001b[39m fichas_tecnicas = \u001b[38;5;28mself\u001b[39m.transform_specifications(specs)\n\u001b[32m     73\u001b[39m claves_fichas = fichas_tecnicas.keys()\n",
      "\u001b[36mFile \u001b[39m\u001b[32m~\\Documents\\proyectoCT\\src\\ct\\ETL\\extraction.py:272\u001b[39m, in \u001b[36mExtraction.get_specifications\u001b[39m\u001b[34m(self, claves)\u001b[39m\n\u001b[32m    271\u001b[39m \u001b[38;5;28;01mdef\u001b[39;00m\u001b[38;5;250m \u001b[39m\u001b[34mget_specifications\u001b[39m(\u001b[38;5;28mself\u001b[39m, claves: \u001b[38;5;28mlist\u001b[39m) -> \u001b[38;5;28mdict\u001b[39m:\n\u001b[32m--> \u001b[39m\u001b[32m272\u001b[39m   \u001b[38;5;28;01mreturn\u001b[39;00m \u001b[38;5;28;43mself\u001b[39;49m\u001b[43m.\u001b[49m\u001b[43mget_specifications_cloudscraper\u001b[49m\u001b[43m(\u001b[49m\u001b[43mclaves\u001b[49m\u001b[43m)\u001b[49m\n",
      "\u001b[36mFile \u001b[39m\u001b[32m~\\Documents\\proyectoCT\\src\\ct\\ETL\\extraction.py:266\u001b[39m, in \u001b[36mExtraction.get_specifications_cloudscraper\u001b[39m\u001b[34m(self, claves)\u001b[39m\n\u001b[32m    264\u001b[39m         \u001b[38;5;28;01mraise\u001b[39;00m \u001b[38;5;167;01mRuntimeError\u001b[39;00m(\u001b[33mf\u001b[39m\u001b[33m\"\u001b[39m\u001b[33m[\u001b[39m\u001b[38;5;132;01m{\u001b[39;00mclave\u001b[38;5;132;01m}\u001b[39;00m\u001b[33m] CloudflareException: \u001b[39m\u001b[38;5;132;01m{\u001b[39;00me\u001b[38;5;132;01m}\u001b[39;00m\u001b[33m\"\u001b[39m)\n\u001b[32m    265\u001b[39m     \u001b[38;5;28;01mexcept\u001b[39;00m \u001b[38;5;167;01mException\u001b[39;00m \u001b[38;5;28;01mas\u001b[39;00m e:\n\u001b[32m--> \u001b[39m\u001b[32m266\u001b[39m         \u001b[38;5;28;01mraise\u001b[39;00m \u001b[38;5;167;01mRuntimeError\u001b[39;00m(\u001b[33mf\u001b[39m\u001b[33m\"\u001b[39m\u001b[33m[\u001b[39m\u001b[38;5;132;01m{\u001b[39;00mclave\u001b[38;5;132;01m}\u001b[39;00m\u001b[33m] Error inesperado: \u001b[39m\u001b[38;5;132;01m{\u001b[39;00me\u001b[38;5;132;01m}\u001b[39;00m\u001b[33m\"\u001b[39m)\n\u001b[32m    268\u001b[39m \u001b[38;5;28;01mreturn\u001b[39;00m specs\n",
      "\u001b[31mRuntimeError\u001b[39m: [ACCCDM1010] Error inesperado: [ACCCDM1010] HTML inesperado (posible redirección de IP)"
     ]
    }
   ],
   "source": [
    "Load().mongo_products()                "
   ]
  },
  {
   "cell_type": "code",
   "execution_count": null,
   "metadata": {},
   "outputs": [
    {
     "name": "stdout",
     "output_type": "stream",
     "text": [
      "Productos transformados obtenidos.\n",
      "Cantidad de claves únicas: 5149\n",
      "Especificaciones obtenidas.\n",
      "Transformación de especificaciones completada.\n",
      "dict_keys(['nombre', 'clave', 'categoria', 'marca', 'tipo', 'modelo', 'detalles', 'detalles_precio', 'moneda', 'fichaTecnica', 'resumen'])\n",
      "{   'categoria': 'Bobinas',\n",
      "    'clave': 'ACCCDM1010',\n",
      "    'detalles': '664464 CABLE UTP CAT 5E EXT/GEL 305M NEG ACCCDM1010, Cable '\n",
      "                'UTP, Bobinas, CONDUMEX, condumex, bobinas, cables, red, utp, '\n",
      "                'estructurado, cat5, cat6, interior, exterior, cobre, ACC, '\n",
      "                'CDM, ACCCDM',\n",
      "    'detalles_precio': [   {'listaPrecio': 1, 'precio': 3000},\n",
      "                           {'listaPrecio': 2, 'precio': 3000},\n",
      "                           {'listaPrecio': 3, 'precio': 3000},\n",
      "                           {'listaPrecio': 4, 'precio': 3000},\n",
      "                           {'listaPrecio': 5, 'precio': 3000},\n",
      "                           {'listaPrecio': 6, 'precio': 3009},\n",
      "                           {'listaPrecio': 8, 'precio': 3000},\n",
      "                           {'listaPrecio': 9, 'precio': 3000}],\n",
      "    'fichaTecnica': {   'Blindaje de cable': 'U/UTP (UTP)',\n",
      "                        'Cable estándar': 'Cat5e',\n",
      "                        'Color del producto': 'Negro',\n",
      "                        'Conector 1': 'No',\n",
      "                        'Conector 2': 'No',\n",
      "                        'Estándares de red': 'IEEE 802.3, IEEE 802.3ab',\n",
      "                        'Longitud de cable': '305 m',\n",
      "                        'Peso': '35 kg',\n",
      "                        'Tecnología de cableado': '10/100/1000Base-T(X)',\n",
      "                        'Tipo de género': 'Macho/Macho',\n",
      "                        'Velocidad de transferencia de datos': '155 Mbit/s'},\n",
      "    'marca': 'CONDUMEX',\n",
      "    'modelo': '664464',\n",
      "    'moneda': 1,\n",
      "    'nombre': 'Cable UTP CAT5e para exterior , 4 pares, bobina de 305 mts, '\n",
      "              '100% cobre, color negro ',\n",
      "    'resumen': {   'LongSummary': 'Condumex 305m, UTP. Longitud de cable: 305 '\n",
      "                                  'm, Cable estándar: Cat5e, Tipo de género: '\n",
      "                                  'Macho/Macho. Peso: 35 kg',\n",
      "                   'ShortSummary': 'Condumex 305m, UTP, Macho/Macho, '\n",
      "                                   '10/100/1000Base-T(X), Cat5e, U/UTP (UTP), '\n",
      "                                   'Negro, IEEE 802.3, IEEE 802.3ab'},\n",
      "    'tipo': 'Cable UTP'}\n",
      "Processed 251 of 5149 documents.\n",
      "Processed 501 of 5149 documents.\n",
      "Processed 751 of 5149 documents.\n",
      "Processed 1001 of 5149 documents.\n",
      "Processed 1251 of 5149 documents.\n",
      "Processed 1501 of 5149 documents.\n",
      "Processed 1751 of 5149 documents.\n",
      "Processed 2001 of 5149 documents.\n",
      "Processed 2251 of 5149 documents.\n",
      "Processed 2501 of 5149 documents.\n",
      "Processed 2751 of 5149 documents.\n",
      "Processed 3001 of 5149 documents.\n",
      "Processed 3251 of 5149 documents.\n",
      "Processed 3501 of 5149 documents.\n",
      "Processed 3751 of 5149 documents.\n",
      "Processed 4001 of 5149 documents.\n",
      "Processed 4251 of 5149 documents.\n",
      "Processed 4501 of 5149 documents.\n",
      "Processed 4751 of 5149 documents.\n",
      "Processed 5001 of 5149 documents.\n",
      "Processed 5251 of 5149 documents.\n",
      "Vector store created and saved to disk.\n"
     ]
    }
   ],
   "source": [
    "Load().mongo_sales()"
   ]
  },
  {
   "cell_type": "markdown",
   "metadata": {},
   "source": [
    "> 38 min -> 5149 docs"
   ]
  },
  {
   "cell_type": "code",
   "execution_count": null,
   "metadata": {},
   "outputs": [
    {
     "name": "stdout",
     "output_type": "stream",
     "text": [
      "dict_keys(['nombre', 'clave', 'categoria', 'marca', 'tipo', 'modelo', 'detalles', 'precio_oferta', 'descuento', 'EnCompraDE', 'Unidades', 'limitadoA', 'fecha_inicio', 'fecha_fin', 'lista_precios', 'moneda', 'fichaTecnica', 'resumen'])\n",
      "{   'EnCompraDE': '10',\n",
      "    'Unidades': '1',\n",
      "    'categoria': 'Limpieza',\n",
      "    'clave': 'ACCMST095',\n",
      "    'descuento': '0.0%',\n",
      "    'detalles': 'Tipo: Toallas limpiadoras para Celulares y Portátiles& Tipo: '\n",
      "                'Antiestáticas& Contenido: 10 toallas& Dimensiones: 15 x 1,5 x '\n",
      "                '7,3 cm& Peso: 0,03 kg TOALLAS LIMPIADORAS '\n",
      "                'PC-030324            ACCMST095, PC-030324, Toallas '\n",
      "                'Limpiadoras, PC-030324, PERFECT CHOICE, Accesorios para '\n",
      "                'Electronica, Limpieza, Toallas limpiadoras PERFECT CHOICE, '\n",
      "                'Paños húmedos, Pantallas / Plásticos, Poliéster, PC030324, '\n",
      "                'ACC, MST, ACCMST, PC-030324, PC-0303240, Toallas Limpiadoras',\n",
      "    'fecha_fin': '2025-05-31',\n",
      "    'fecha_inicio': '2025-05-10',\n",
      "    'fichaTecnica': {   'Altura del paquete': '7,3 cm',\n",
      "                        'Ancho': '19 cm',\n",
      "                        'Ancho del paquete': '15 cm',\n",
      "                        'Materiales': 'Poliéster',\n",
      "                        'Peso del paquete': '30 g',\n",
      "                        'Profundidad': '17 cm',\n",
      "                        'Profundidad del paquete': '1,5 cm',\n",
      "                        'Sustancia': 'Paños húmedos',\n",
      "                        'Uso adecuado': 'Pantallas / Plásticos'},\n",
      "    'limitadoA': '0',\n",
      "    'lista_precios': '[{\"listaPrecio\": 1, \"precio\": 18.58},{\"listaPrecio\": 2, '\n",
      "                     '\"precio\": 18.17},{\"listaPrecio\": 3, \"precio\": '\n",
      "                     '18.17},{\"listaPrecio\": 4, \"precio\": '\n",
      "                     '18.58},{\"listaPrecio\": 5, \"precio\": '\n",
      "                     '18.58},{\"listaPrecio\": 6, \"precio\": '\n",
      "                     '19.73},{\"listaPrecio\": 8, \"precio\": '\n",
      "                     '18.17},{\"listaPrecio\": 9, \"precio\": 18.17}]',\n",
      "    'marca': 'PERFECT CHOICE',\n",
      "    'modelo': 'PC-030324',\n",
      "    'moneda': '1.0',\n",
      "    'nombre': 'Toallas limpiadoras PERFECT CHOICE, Paños húmedos, Pantallas / '\n",
      "              'Plásticos, Poliéster',\n",
      "    'precio_oferta': '0.0',\n",
      "    'resumen': {   'LongSummary': 'Perfect Choice PC-030324. Sustancia: Paños '\n",
      "                                  'húmedos, Uso adecuado: Pantallas / '\n",
      "                                  'Plásticos, Materiales: Poliéster. Ancho: 19 '\n",
      "                                  'cm, Profundidad: 17 cm, Ancho del paquete: '\n",
      "                                  '15 cm',\n",
      "                   'ShortSummary': 'Perfect Choice PC-030324, Paños húmedos, '\n",
      "                                   'Pantallas / Plásticos, Poliéster'},\n",
      "    'tipo': 'Toallas Limpiadoras'}\n",
      "Processed 201 of 2013 documents.\n",
      "Processed 401 of 2013 documents.\n",
      "Processed 601 of 2013 documents.\n",
      "Processed 801 of 2013 documents.\n",
      "Processed 1001 of 2013 documents.\n",
      "Processed 1201 of 2013 documents.\n",
      "Processed 1401 of 2013 documents.\n",
      "Processed 1601 of 2013 documents.\n",
      "Processed 1801 of 2013 documents.\n",
      "Processed 2001 of 2013 documents.\n",
      "Processed 2201 of 2013 documents.\n",
      "Merged vector store created and saved to disk.\n"
     ]
    }
   ],
   "source": [
    "Load().products_vs()"
   ]
  },
  {
   "cell_type": "markdown",
   "metadata": {},
   "source": [
    "> 14m 2.5s"
   ]
  },
  {
   "cell_type": "code",
   "execution_count": null,
   "metadata": {},
   "outputs": [],
   "source": [
    "Load().sales_products_vs()"
   ]
  }
 ],
 "metadata": {
  "kernelspec": {
   "display_name": ".venv",
   "language": "python",
   "name": "python3"
  },
  "language_info": {
   "codemirror_mode": {
    "name": "ipython",
    "version": 3
   },
   "file_extension": ".py",
   "mimetype": "text/x-python",
   "name": "python",
   "nbconvert_exporter": "python",
   "pygments_lexer": "ipython3",
   "version": "3.12.9"
  }
 },
 "nbformat": 4,
 "nbformat_minor": 2
}
