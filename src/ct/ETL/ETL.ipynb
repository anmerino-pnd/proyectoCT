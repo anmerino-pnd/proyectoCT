{
 "cells": [
  {
   "cell_type": "code",
   "execution_count": 1,
   "metadata": {},
   "outputs": [],
   "source": [
    "from ct.ETL.load import Load"
   ]
  },
  {
   "cell_type": "code",
   "execution_count": 2,
   "metadata": {},
   "outputs": [],
   "source": [
    "carga = Load()"
   ]
  },
  {
   "cell_type": "code",
   "execution_count": null,
   "metadata": {},
   "outputs": [
    {
     "name": "stdout",
     "output_type": "stream",
     "text": [
      "Timeout error para el producto CARBRT1460 con cloudscraper\n",
      "Timeout error para el producto CARBRT175 con cloudscraper\n",
      "Timeout error para el producto CARBRT340 con cloudscraper\n",
      "Timeout error para el producto CARBRT480 con cloudscraper\n",
      "Timeout error para el producto CARBRT590 con cloudscraper\n",
      "Timeout error para el producto CARCNN1090 con cloudscraper\n",
      "Timeout error para el producto CAREPS3900 con cloudscraper\n",
      "Timeout error para el producto CAREPS3920 con cloudscraper\n",
      "Timeout error para el producto CAREPS4030 con cloudscraper\n",
      "Timeout error para el producto CAREPS4050 con cloudscraper\n",
      "Timeout error para el producto CAREPS4250 con cloudscraper\n",
      "Timeout error para el producto CAREPS4370 con cloudscraper\n",
      "Timeout error para el producto CARHPD3270 con cloudscraper\n",
      "Timeout error para el producto CARHPD3280 con cloudscraper\n",
      "Timeout error para el producto CARXRX3330 con cloudscraper\n",
      "Timeout error para el producto CARXRX3530 con cloudscraper\n"
     ]
    }
   ],
   "source": [
    "productos = carga.products_vs()"
   ]
  },
  {
   "cell_type": "code",
   "execution_count": 3,
   "metadata": {},
   "outputs": [
    {
     "ename": "IndexError",
     "evalue": "list index out of range",
     "output_type": "error",
     "traceback": [
      "\u001b[31m---------------------------------------------------------------------------\u001b[39m",
      "\u001b[31mIndexError\u001b[39m                                Traceback (most recent call last)",
      "\u001b[36mCell\u001b[39m\u001b[36m \u001b[39m\u001b[32mIn[3]\u001b[39m\u001b[32m, line 1\u001b[39m\n\u001b[32m----> \u001b[39m\u001b[32m1\u001b[39m promociones_productos = \u001b[43mcarga\u001b[49m\u001b[43m.\u001b[49m\u001b[43msales_products_vs\u001b[49m\u001b[43m(\u001b[49m\u001b[43m)\u001b[49m\n",
      "\u001b[36mFile \u001b[39m\u001b[32m~\\Documents\\proyectoCT\\src\\ct\\ETL\\load.py:59\u001b[39m, in \u001b[36mLoad.sales_products_vs\u001b[39m\u001b[34m(self)\u001b[39m\n\u001b[32m     57\u001b[39m \u001b[38;5;28;01mdef\u001b[39;00m\u001b[38;5;250m \u001b[39m\u001b[34msales_products_vs\u001b[39m(\u001b[38;5;28mself\u001b[39m):\n\u001b[32m     58\u001b[39m     \u001b[38;5;66;03m# Load sales \u001b[39;00m\n\u001b[32m---> \u001b[39m\u001b[32m59\u001b[39m     sales = \u001b[38;5;28;43mself\u001b[39;49m\u001b[43m.\u001b[49m\u001b[43mload_sales\u001b[49m\u001b[43m(\u001b[49m\u001b[43m)\u001b[49m\n\u001b[32m     60\u001b[39m     \u001b[38;5;66;03m# Create the vector store\u001b[39;00m\n\u001b[32m     61\u001b[39m     vector_store = \u001b[38;5;28mself\u001b[39m.vector_store(sales)\n",
      "\u001b[36mFile \u001b[39m\u001b[32m~\\Documents\\proyectoCT\\src\\ct\\ETL\\load.py:32\u001b[39m, in \u001b[36mLoad.load_sales\u001b[39m\u001b[34m(self)\u001b[39m\n\u001b[32m     31\u001b[39m \u001b[38;5;28;01mdef\u001b[39;00m\u001b[38;5;250m \u001b[39m\u001b[34mload_sales\u001b[39m(\u001b[38;5;28mself\u001b[39m):\n\u001b[32m---> \u001b[39m\u001b[32m32\u001b[39m     sales = \u001b[38;5;28;43mself\u001b[39;49m\u001b[43m.\u001b[49m\u001b[43mclean_data\u001b[49m\u001b[43m.\u001b[49m\u001b[43mclean_sales\u001b[49m\u001b[43m(\u001b[49m\u001b[43m)\u001b[49m\n\u001b[32m     34\u001b[39m     sale = sales[\u001b[32m0\u001b[39m]\n\u001b[32m     35\u001b[39m     sales_features = [column \u001b[38;5;28;01mfor\u001b[39;00m column \u001b[38;5;129;01min\u001b[39;00m sale.keys()]\n",
      "\u001b[36mFile \u001b[39m\u001b[32m~\\Documents\\proyectoCT\\src\\ct\\ETL\\transform.py:116\u001b[39m, in \u001b[36mTransform.clean_sales\u001b[39m\u001b[34m(self)\u001b[39m\n\u001b[32m    114\u001b[39m         sale[\u001b[33m'\u001b[39m\u001b[33mfichaTecnica\u001b[39m\u001b[33m'\u001b[39m] = ficha[\u001b[33m'\u001b[39m\u001b[33mfichaTecnica\u001b[39m\u001b[33m'\u001b[39m]\n\u001b[32m    115\u001b[39m         sale[\u001b[33m'\u001b[39m\u001b[33mresumen\u001b[39m\u001b[33m'\u001b[39m] = ficha[\u001b[33m'\u001b[39m\u001b[33mresumen\u001b[39m\u001b[33m'\u001b[39m]\n\u001b[32m--> \u001b[39m\u001b[32m116\u001b[39m pprint.pprint(\u001b[43msales_dict\u001b[49m\u001b[43m[\u001b[49m\u001b[32;43m0\u001b[39;49m\u001b[43m]\u001b[49m.keys(), indent=\u001b[32m4\u001b[39m)\n\u001b[32m    117\u001b[39m pprint.pprint(sales_dict[\u001b[32m0\u001b[39m], indent=\u001b[32m4\u001b[39m)\n\u001b[32m    118\u001b[39m \u001b[38;5;28;01mreturn\u001b[39;00m sales_dict\n",
      "\u001b[31mIndexError\u001b[39m: list index out of range"
     ]
    }
   ],
   "source": [
    "promociones_productos = carga.sales_products_vs()"
   ]
  },
  {
   "cell_type": "code",
   "execution_count": null,
   "metadata": {},
   "outputs": [],
   "source": []
  }
 ],
 "metadata": {
  "kernelspec": {
   "display_name": ".venv",
   "language": "python",
   "name": "python3"
  },
  "language_info": {
   "codemirror_mode": {
    "name": "ipython",
    "version": 3
   },
   "file_extension": ".py",
   "mimetype": "text/x-python",
   "name": "python",
   "nbconvert_exporter": "python",
   "pygments_lexer": "ipython3",
   "version": "3.12.9"
  }
 },
 "nbformat": 4,
 "nbformat_minor": 2
}
