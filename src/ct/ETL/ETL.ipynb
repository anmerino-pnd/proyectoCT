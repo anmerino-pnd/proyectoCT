{
 "cells": [
  {
   "cell_type": "code",
   "execution_count": 1,
   "metadata": {},
   "outputs": [],
   "source": [
    "from ct.ETL.load import Load"
   ]
  },
  {
   "cell_type": "code",
   "execution_count": 2,
   "metadata": {},
   "outputs": [],
   "source": [
    "carga = Load()"
   ]
  },
  {
   "cell_type": "code",
   "execution_count": 3,
   "metadata": {},
   "outputs": [
    {
     "name": "stdout",
     "output_type": "stream",
     "text": [
      "Productos transformados obtenidos.\n",
      "Cantidad de claves únicas: 5149\n",
      "Especificaciones obtenidas.\n",
      "Transformación de especificaciones completada.\n",
      "dict_keys(['nombre', 'clave', 'categoria', 'marca', 'tipo', 'modelo', 'detalles', 'detalles_precio', 'moneda', 'fichaTecnica', 'resumen'])\n",
      "{   'categoria': 'Bobinas',\n",
      "    'clave': 'ACCCDM1010',\n",
      "    'detalles': '664464 CABLE UTP CAT 5E EXT/GEL 305M NEG ACCCDM1010, Cable '\n",
      "                'UTP, Bobinas, CONDUMEX, condumex, bobinas, cables, red, utp, '\n",
      "                'estructurado, cat5, cat6, interior, exterior, cobre, ACC, '\n",
      "                'CDM, ACCCDM',\n",
      "    'detalles_precio': [   {'listaPrecio': 1, 'precio': 3000},\n",
      "                           {'listaPrecio': 2, 'precio': 3000},\n",
      "                           {'listaPrecio': 3, 'precio': 3000},\n",
      "                           {'listaPrecio': 4, 'precio': 3000},\n",
      "                           {'listaPrecio': 5, 'precio': 3000},\n",
      "                           {'listaPrecio': 6, 'precio': 3009},\n",
      "                           {'listaPrecio': 8, 'precio': 3000},\n",
      "                           {'listaPrecio': 9, 'precio': 3000}],\n",
      "    'fichaTecnica': {   'Blindaje de cable': 'U/UTP (UTP)',\n",
      "                        'Cable estándar': 'Cat5e',\n",
      "                        'Color del producto': 'Negro',\n",
      "                        'Conector 1': 'No',\n",
      "                        'Conector 2': 'No',\n",
      "                        'Estándares de red': 'IEEE 802.3, IEEE 802.3ab',\n",
      "                        'Longitud de cable': '305 m',\n",
      "                        'Peso': '35 kg',\n",
      "                        'Tecnología de cableado': '10/100/1000Base-T(X)',\n",
      "                        'Tipo de género': 'Macho/Macho',\n",
      "                        'Velocidad de transferencia de datos': '155 Mbit/s'},\n",
      "    'marca': 'CONDUMEX',\n",
      "    'modelo': '664464',\n",
      "    'moneda': 1,\n",
      "    'nombre': 'Cable UTP CAT5e para exterior , 4 pares, bobina de 305 mts, '\n",
      "              '100% cobre, color negro ',\n",
      "    'resumen': {   'LongSummary': 'Condumex 305m, UTP. Longitud de cable: 305 '\n",
      "                                  'm, Cable estándar: Cat5e, Tipo de género: '\n",
      "                                  'Macho/Macho. Peso: 35 kg',\n",
      "                   'ShortSummary': 'Condumex 305m, UTP, Macho/Macho, '\n",
      "                                   '10/100/1000Base-T(X), Cat5e, U/UTP (UTP), '\n",
      "                                   'Negro, IEEE 802.3, IEEE 802.3ab'},\n",
      "    'tipo': 'Cable UTP'}\n",
      "Processed 251 of 5149 documents.\n",
      "Processed 501 of 5149 documents.\n",
      "Processed 751 of 5149 documents.\n",
      "Processed 1001 of 5149 documents.\n",
      "Processed 1251 of 5149 documents.\n",
      "Processed 1501 of 5149 documents.\n",
      "Processed 1751 of 5149 documents.\n",
      "Processed 2001 of 5149 documents.\n",
      "Processed 2251 of 5149 documents.\n",
      "Processed 2501 of 5149 documents.\n",
      "Processed 2751 of 5149 documents.\n",
      "Processed 3001 of 5149 documents.\n",
      "Processed 3251 of 5149 documents.\n",
      "Processed 3501 of 5149 documents.\n",
      "Processed 3751 of 5149 documents.\n",
      "Processed 4001 of 5149 documents.\n",
      "Processed 4251 of 5149 documents.\n",
      "Processed 4501 of 5149 documents.\n",
      "Processed 4751 of 5149 documents.\n",
      "Processed 5001 of 5149 documents.\n",
      "Processed 5251 of 5149 documents.\n",
      "Vector store created and saved to disk.\n"
     ]
    }
   ],
   "source": [
    "productos = carga.products_vs()"
   ]
  },
  {
   "cell_type": "markdown",
   "metadata": {},
   "source": [
    "> 38 min -> 5149 docs"
   ]
  },
  {
   "cell_type": "code",
   "execution_count": 3,
   "metadata": {},
   "outputs": [
    {
     "name": "stdout",
     "output_type": "stream",
     "text": [
      "dict_keys(['nombre', 'clave', 'categoria', 'marca', 'tipo', 'modelo', 'detalles', 'precio_oferta', 'descuento', 'EnCompraDE', 'Unidades', 'limitadoA', 'fecha_inicio', 'fecha_fin', 'lista_precios', 'moneda', 'fichaTecnica', 'resumen'])\n",
      "{   'EnCompraDE': '10',\n",
      "    'Unidades': '1',\n",
      "    'categoria': 'Limpieza',\n",
      "    'clave': 'ACCMST095',\n",
      "    'descuento': '0.0%',\n",
      "    'detalles': 'Tipo: Toallas limpiadoras para Celulares y Portátiles& Tipo: '\n",
      "                'Antiestáticas& Contenido: 10 toallas& Dimensiones: 15 x 1,5 x '\n",
      "                '7,3 cm& Peso: 0,03 kg TOALLAS LIMPIADORAS '\n",
      "                'PC-030324            ACCMST095, PC-030324, Toallas '\n",
      "                'Limpiadoras, PC-030324, PERFECT CHOICE, Accesorios para '\n",
      "                'Electronica, Limpieza, Toallas limpiadoras PERFECT CHOICE, '\n",
      "                'Paños húmedos, Pantallas / Plásticos, Poliéster, PC030324, '\n",
      "                'ACC, MST, ACCMST, PC-030324, PC-0303240, Toallas Limpiadoras',\n",
      "    'fecha_fin': '2025-05-31',\n",
      "    'fecha_inicio': '2025-05-10',\n",
      "    'fichaTecnica': {   'Altura del paquete': '7,3 cm',\n",
      "                        'Ancho': '19 cm',\n",
      "                        'Ancho del paquete': '15 cm',\n",
      "                        'Materiales': 'Poliéster',\n",
      "                        'Peso del paquete': '30 g',\n",
      "                        'Profundidad': '17 cm',\n",
      "                        'Profundidad del paquete': '1,5 cm',\n",
      "                        'Sustancia': 'Paños húmedos',\n",
      "                        'Uso adecuado': 'Pantallas / Plásticos'},\n",
      "    'limitadoA': '0',\n",
      "    'lista_precios': '[{\"listaPrecio\": 1, \"precio\": 18.58},{\"listaPrecio\": 2, '\n",
      "                     '\"precio\": 18.17},{\"listaPrecio\": 3, \"precio\": '\n",
      "                     '18.17},{\"listaPrecio\": 4, \"precio\": '\n",
      "                     '18.58},{\"listaPrecio\": 5, \"precio\": '\n",
      "                     '18.58},{\"listaPrecio\": 6, \"precio\": '\n",
      "                     '19.73},{\"listaPrecio\": 8, \"precio\": '\n",
      "                     '18.17},{\"listaPrecio\": 9, \"precio\": 18.17}]',\n",
      "    'marca': 'PERFECT CHOICE',\n",
      "    'modelo': 'PC-030324',\n",
      "    'moneda': '1.0',\n",
      "    'nombre': 'Toallas limpiadoras PERFECT CHOICE, Paños húmedos, Pantallas / '\n",
      "              'Plásticos, Poliéster',\n",
      "    'precio_oferta': '0.0',\n",
      "    'resumen': {   'LongSummary': 'Perfect Choice PC-030324. Sustancia: Paños '\n",
      "                                  'húmedos, Uso adecuado: Pantallas / '\n",
      "                                  'Plásticos, Materiales: Poliéster. Ancho: 19 '\n",
      "                                  'cm, Profundidad: 17 cm, Ancho del paquete: '\n",
      "                                  '15 cm',\n",
      "                   'ShortSummary': 'Perfect Choice PC-030324, Paños húmedos, '\n",
      "                                   'Pantallas / Plásticos, Poliéster'},\n",
      "    'tipo': 'Toallas Limpiadoras'}\n",
      "Processed 201 of 2013 documents.\n",
      "Processed 401 of 2013 documents.\n",
      "Processed 601 of 2013 documents.\n",
      "Processed 801 of 2013 documents.\n",
      "Processed 1001 of 2013 documents.\n",
      "Processed 1201 of 2013 documents.\n",
      "Processed 1401 of 2013 documents.\n",
      "Processed 1601 of 2013 documents.\n",
      "Processed 1801 of 2013 documents.\n",
      "Processed 2001 of 2013 documents.\n",
      "Processed 2201 of 2013 documents.\n",
      "Merged vector store created and saved to disk.\n"
     ]
    }
   ],
   "source": [
    "promociones_productos = carga.sales_products_vs()"
   ]
  },
  {
   "cell_type": "markdown",
   "metadata": {},
   "source": [
    "> 14m 2.5s"
   ]
  },
  {
   "cell_type": "code",
   "execution_count": null,
   "metadata": {},
   "outputs": [],
   "source": []
  }
 ],
 "metadata": {
  "kernelspec": {
   "display_name": ".venv",
   "language": "python",
   "name": "python3"
  },
  "language_info": {
   "codemirror_mode": {
    "name": "ipython",
    "version": 3
   },
   "file_extension": ".py",
   "mimetype": "text/x-python",
   "name": "python",
   "nbconvert_exporter": "python",
   "pygments_lexer": "ipython3",
   "version": "3.12.9"
  }
 },
 "nbformat": 4,
 "nbformat_minor": 2
}
