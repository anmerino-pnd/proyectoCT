{
 "cells": [
  {
   "cell_type": "code",
   "execution_count": 1,
   "metadata": {},
   "outputs": [],
   "source": [
    "from ct.ETL.load import Load"
   ]
  },
  {
   "cell_type": "code",
   "execution_count": 2,
   "metadata": {},
   "outputs": [],
   "source": [
    "carga = Load()"
   ]
  },
  {
   "cell_type": "code",
   "execution_count": 3,
   "metadata": {},
   "outputs": [
    {
     "ename": "InternalError",
     "evalue": "Unread result found",
     "output_type": "error",
     "traceback": [
      "\u001b[31m---------------------------------------------------------------------------\u001b[39m",
      "\u001b[31mKeyboardInterrupt\u001b[39m                         Traceback (most recent call last)",
      "\u001b[36mFile \u001b[39m\u001b[32m~\\Documents\\proyectoCT\\src\\ct\\ETL\\extraction.py:129\u001b[39m, in \u001b[36mExtraction.get_products\u001b[39m\u001b[34m(self)\u001b[39m\n\u001b[32m    128\u001b[39m \u001b[38;5;28;01mfor\u001b[39;00m \u001b[38;5;28mid\u001b[39m \u001b[38;5;129;01min\u001b[39;00m ids_validos:\n\u001b[32m--> \u001b[39m\u001b[32m129\u001b[39m     \u001b[43mcursor\u001b[49m\u001b[43m.\u001b[49m\u001b[43mexecute\u001b[49m\u001b[43m(\u001b[49m\u001b[38;5;28;43mself\u001b[39;49m\u001b[43m.\u001b[49m\u001b[43mproduct_query\u001b[49m\u001b[43m(\u001b[49m\u001b[38;5;28;43mid\u001b[39;49m\u001b[43m)\u001b[49m\u001b[43m)\u001b[49m\n\u001b[32m    130\u001b[39m     filas.append(cursor.fetchall())\n",
      "\u001b[36mFile \u001b[39m\u001b[32mc:\\Users\\angel.merino\\Documents\\proyectoCT\\.venv\\Lib\\site-packages\\mysql\\connector\\cursor_cext.py:351\u001b[39m, in \u001b[36mCMySQLCursor.execute\u001b[39m\u001b[34m(self, operation, params, map_results)\u001b[39m\n\u001b[32m    349\u001b[39m \u001b[38;5;28;01mtry\u001b[39;00m:\n\u001b[32m    350\u001b[39m     \u001b[38;5;28mself\u001b[39m._handle_result(\n\u001b[32m--> \u001b[39m\u001b[32m351\u001b[39m         \u001b[38;5;28;43mself\u001b[39;49m\u001b[43m.\u001b[49m\u001b[43m_connection\u001b[49m\u001b[43m.\u001b[49m\u001b[43mcmd_query\u001b[49m\u001b[43m(\u001b[49m\n\u001b[32m    352\u001b[39m \u001b[43m            \u001b[49m\u001b[38;5;28;43mself\u001b[39;49m\u001b[43m.\u001b[49m\u001b[43m_stmt_partition\u001b[49m\u001b[43m[\u001b[49m\u001b[33;43m\"\u001b[39;49m\u001b[33;43mmappable_stmt\u001b[39;49m\u001b[33;43m\"\u001b[39;49m\u001b[43m]\u001b[49m\u001b[43m,\u001b[49m\n\u001b[32m    353\u001b[39m \u001b[43m            \u001b[49m\u001b[43mraw\u001b[49m\u001b[43m=\u001b[49m\u001b[38;5;28;43mself\u001b[39;49m\u001b[43m.\u001b[49m\u001b[43m_raw\u001b[49m\u001b[43m,\u001b[49m\n\u001b[32m    354\u001b[39m \u001b[43m            \u001b[49m\u001b[43mbuffered\u001b[49m\u001b[43m=\u001b[49m\u001b[38;5;28;43mself\u001b[39;49m\u001b[43m.\u001b[49m\u001b[43m_buffered\u001b[49m\u001b[43m,\u001b[49m\n\u001b[32m    355\u001b[39m \u001b[43m            \u001b[49m\u001b[43mraw_as_string\u001b[49m\u001b[43m=\u001b[49m\u001b[38;5;28;43mself\u001b[39;49m\u001b[43m.\u001b[49m\u001b[43m_raw_as_string\u001b[49m\u001b[43m,\u001b[49m\n\u001b[32m    356\u001b[39m \u001b[43m        \u001b[49m\u001b[43m)\u001b[49m\n\u001b[32m    357\u001b[39m     )\n\u001b[32m    358\u001b[39m \u001b[38;5;28;01mexcept\u001b[39;00m MySQLInterfaceError \u001b[38;5;28;01mas\u001b[39;00m err:\n",
      "\u001b[36mFile \u001b[39m\u001b[32mc:\\Users\\angel.merino\\Documents\\proyectoCT\\.venv\\Lib\\site-packages\\mysql\\connector\\opentelemetry\\context_propagation.py:97\u001b[39m, in \u001b[36mwith_context_propagation.<locals>.wrapper\u001b[39m\u001b[34m(cnx, *args, **kwargs)\u001b[39m\n\u001b[32m     96\u001b[39m \u001b[38;5;28;01mif\u001b[39;00m \u001b[38;5;129;01mnot\u001b[39;00m OTEL_ENABLED \u001b[38;5;129;01mor\u001b[39;00m \u001b[38;5;129;01mnot\u001b[39;00m cnx.otel_context_propagation:\n\u001b[32m---> \u001b[39m\u001b[32m97\u001b[39m     \u001b[38;5;28;01mreturn\u001b[39;00m \u001b[43mmethod\u001b[49m\u001b[43m(\u001b[49m\u001b[43mcnx\u001b[49m\u001b[43m,\u001b[49m\u001b[43m \u001b[49m\u001b[43m*\u001b[49m\u001b[43margs\u001b[49m\u001b[43m,\u001b[49m\u001b[43m \u001b[49m\u001b[43m*\u001b[49m\u001b[43m*\u001b[49m\u001b[43mkwargs\u001b[49m\u001b[43m)\u001b[49m\n\u001b[32m     99\u001b[39m current_span = trace.get_current_span()\n",
      "\u001b[36mFile \u001b[39m\u001b[32mc:\\Users\\angel.merino\\Documents\\proyectoCT\\.venv\\Lib\\site-packages\\mysql\\connector\\connection_cext.py:755\u001b[39m, in \u001b[36mCMySQLConnection.cmd_query\u001b[39m\u001b[34m(self, query, raw, buffered, raw_as_string, **kwargs)\u001b[39m\n\u001b[32m    754\u001b[39m         query = query.encode(\u001b[33m\"\u001b[39m\u001b[33mutf-8\u001b[39m\u001b[33m\"\u001b[39m)\n\u001b[32m--> \u001b[39m\u001b[32m755\u001b[39m     \u001b[38;5;28;43mself\u001b[39;49m\u001b[43m.\u001b[49m\u001b[43m_cmysql\u001b[49m\u001b[43m.\u001b[49m\u001b[43mquery\u001b[49m\u001b[43m(\u001b[49m\n\u001b[32m    756\u001b[39m \u001b[43m        \u001b[49m\u001b[43mquery\u001b[49m\u001b[43m,\u001b[49m\n\u001b[32m    757\u001b[39m \u001b[43m        \u001b[49m\u001b[43mraw\u001b[49m\u001b[43m=\u001b[49m\u001b[43mraw\u001b[49m\u001b[43m,\u001b[49m\n\u001b[32m    758\u001b[39m \u001b[43m        \u001b[49m\u001b[43mbuffered\u001b[49m\u001b[43m=\u001b[49m\u001b[43mbuffered\u001b[49m\u001b[43m,\u001b[49m\n\u001b[32m    759\u001b[39m \u001b[43m        \u001b[49m\u001b[43mraw_as_string\u001b[49m\u001b[43m=\u001b[49m\u001b[43mraw_as_string\u001b[49m\u001b[43m,\u001b[49m\n\u001b[32m    760\u001b[39m \u001b[43m        \u001b[49m\u001b[43mquery_attrs\u001b[49m\u001b[43m=\u001b[49m\u001b[38;5;28;43mself\u001b[39;49m\u001b[43m.\u001b[49m\u001b[43mquery_attrs\u001b[49m\u001b[43m,\u001b[49m\n\u001b[32m    761\u001b[39m \u001b[43m    \u001b[49m\u001b[43m)\u001b[49m\n\u001b[32m    762\u001b[39m \u001b[38;5;28;01mexcept\u001b[39;00m MySQLInterfaceError \u001b[38;5;28;01mas\u001b[39;00m err:\n",
      "\u001b[31mKeyboardInterrupt\u001b[39m: ",
      "\nDuring handling of the above exception, another exception occurred:\n",
      "\u001b[31mInternalError\u001b[39m                             Traceback (most recent call last)",
      "\u001b[36mCell\u001b[39m\u001b[36m \u001b[39m\u001b[32mIn[3]\u001b[39m\u001b[32m, line 1\u001b[39m\n\u001b[32m----> \u001b[39m\u001b[32m1\u001b[39m productos = \u001b[43mcarga\u001b[49m\u001b[43m.\u001b[49m\u001b[43mproducts_vs\u001b[49m\u001b[43m(\u001b[49m\u001b[43m)\u001b[49m\n",
      "\u001b[36mFile \u001b[39m\u001b[32m~\\Documents\\proyectoCT\\src\\ct\\ETL\\load.py:50\u001b[39m, in \u001b[36mLoad.products_vs\u001b[39m\u001b[34m(self)\u001b[39m\n\u001b[32m     48\u001b[39m \u001b[38;5;28;01mdef\u001b[39;00m\u001b[38;5;250m \u001b[39m\u001b[34mproducts_vs\u001b[39m(\u001b[38;5;28mself\u001b[39m):\n\u001b[32m     49\u001b[39m     \u001b[38;5;66;03m# Load products \u001b[39;00m\n\u001b[32m---> \u001b[39m\u001b[32m50\u001b[39m     products = \u001b[38;5;28;43mself\u001b[39;49m\u001b[43m.\u001b[49m\u001b[43mload_products\u001b[49m\u001b[43m(\u001b[49m\u001b[43m)\u001b[49m\n\u001b[32m     51\u001b[39m     \u001b[38;5;66;03m# Create the vector store\u001b[39;00m\n\u001b[32m     52\u001b[39m     vector_store = \u001b[38;5;28mself\u001b[39m.vector_store(products)\n",
      "\u001b[36mFile \u001b[39m\u001b[32m~\\Documents\\proyectoCT\\src\\ct\\ETL\\load.py:17\u001b[39m, in \u001b[36mLoad.load_products\u001b[39m\u001b[34m(self)\u001b[39m\n\u001b[32m     16\u001b[39m \u001b[38;5;28;01mdef\u001b[39;00m\u001b[38;5;250m \u001b[39m\u001b[34mload_products\u001b[39m(\u001b[38;5;28mself\u001b[39m):\n\u001b[32m---> \u001b[39m\u001b[32m17\u001b[39m     products = \u001b[38;5;28;43mself\u001b[39;49m\u001b[43m.\u001b[49m\u001b[43mclean_data\u001b[49m\u001b[43m.\u001b[49m\u001b[43mclean_products\u001b[49m\u001b[43m(\u001b[49m\u001b[43m)\u001b[49m  \u001b[38;5;66;03m# Ahora sabemos que es una lista\u001b[39;00m\n\u001b[32m     19\u001b[39m     product = products[\u001b[32m0\u001b[39m]  \u001b[38;5;66;03m# Tomamos el primer elemento directamente\u001b[39;00m\n\u001b[32m     20\u001b[39m     product_features = [column \u001b[38;5;28;01mfor\u001b[39;00m column \u001b[38;5;129;01min\u001b[39;00m product.keys()]\n",
      "\u001b[36mFile \u001b[39m\u001b[32m~\\Documents\\proyectoCT\\src\\ct\\ETL\\transform.py:72\u001b[39m, in \u001b[36mTransform.clean_products\u001b[39m\u001b[34m(self)\u001b[39m\n\u001b[32m     71\u001b[39m \u001b[38;5;28;01mdef\u001b[39;00m\u001b[38;5;250m \u001b[39m\u001b[34mclean_products\u001b[39m(\u001b[38;5;28mself\u001b[39m) -> \u001b[38;5;28mdict\u001b[39m:\n\u001b[32m---> \u001b[39m\u001b[32m72\u001b[39m     products = \u001b[38;5;28;43mself\u001b[39;49m\u001b[43m.\u001b[49m\u001b[43mtransform_products\u001b[49m\u001b[43m(\u001b[49m\u001b[43m)\u001b[49m\n\u001b[32m     73\u001b[39m     claves = products[\u001b[33m'\u001b[39m\u001b[33mclave\u001b[39m\u001b[33m'\u001b[39m].unique().tolist()\n\u001b[32m     74\u001b[39m     specs = \u001b[38;5;28mself\u001b[39m.data.get_specifications(claves)\n",
      "\u001b[36mFile \u001b[39m\u001b[32m~\\Documents\\proyectoCT\\src\\ct\\ETL\\transform.py:59\u001b[39m, in \u001b[36mTransform.transform_products\u001b[39m\u001b[34m(self)\u001b[39m\n\u001b[32m     58\u001b[39m \u001b[38;5;28;01mdef\u001b[39;00m\u001b[38;5;250m \u001b[39m\u001b[34mtransform_products\u001b[39m(\u001b[38;5;28mself\u001b[39m) -> pd.DataFrame:\n\u001b[32m---> \u001b[39m\u001b[32m59\u001b[39m     products : pd.DataFrame = \u001b[38;5;28;43mself\u001b[39;49m\u001b[43m.\u001b[49m\u001b[43mdata\u001b[49m\u001b[43m.\u001b[49m\u001b[43mget_products\u001b[49m\u001b[43m(\u001b[49m\u001b[43m)\u001b[49m\n\u001b[32m     60\u001b[39m     products[\u001b[33m'\u001b[39m\u001b[33mdescripcion\u001b[39m\u001b[33m'\u001b[39m] = products[\u001b[33m'\u001b[39m\u001b[33mdescripcion\u001b[39m\u001b[33m'\u001b[39m].fillna(\u001b[33m'\u001b[39m\u001b[33m'\u001b[39m).astype(\u001b[38;5;28mstr\u001b[39m).replace(\u001b[33m'\u001b[39m\u001b[33m0\u001b[39m\u001b[33m'\u001b[39m, \u001b[33m'\u001b[39m\u001b[33m'\u001b[39m)\n\u001b[32m     61\u001b[39m     products[\u001b[33m'\u001b[39m\u001b[33mdescripcion_corta\u001b[39m\u001b[33m'\u001b[39m] = products[\u001b[33m'\u001b[39m\u001b[33mdescripcion_corta\u001b[39m\u001b[33m'\u001b[39m].fillna(\u001b[33m'\u001b[39m\u001b[33m'\u001b[39m).astype(\u001b[38;5;28mstr\u001b[39m).replace(\u001b[33m'\u001b[39m\u001b[33m0\u001b[39m\u001b[33m'\u001b[39m, \u001b[33m'\u001b[39m\u001b[33m'\u001b[39m)\n",
      "\u001b[36mFile \u001b[39m\u001b[32m~\\Documents\\proyectoCT\\src\\ct\\ETL\\extraction.py:148\u001b[39m, in \u001b[36mExtraction.get_products\u001b[39m\u001b[34m(self)\u001b[39m\n\u001b[32m    146\u001b[39m   \u001b[38;5;28;01mreturn\u001b[39;00m \u001b[38;5;28;01mNone\u001b[39;00m\n\u001b[32m    147\u001b[39m \u001b[38;5;28;01mfinally\u001b[39;00m:\n\u001b[32m--> \u001b[39m\u001b[32m148\u001b[39m   \u001b[43mcursor\u001b[49m\u001b[43m.\u001b[49m\u001b[43mclose\u001b[49m\u001b[43m(\u001b[49m\u001b[43m)\u001b[49m\n\u001b[32m    149\u001b[39m   cnx.close()\n",
      "\u001b[36mFile \u001b[39m\u001b[32mc:\\Users\\angel.merino\\Documents\\proyectoCT\\.venv\\Lib\\site-packages\\mysql\\connector\\cursor_cext.py:509\u001b[39m, in \u001b[36mCMySQLCursor.close\u001b[39m\u001b[34m(self)\u001b[39m\n\u001b[32m    506\u001b[39m \u001b[38;5;28;01mif\u001b[39;00m \u001b[38;5;129;01mnot\u001b[39;00m \u001b[38;5;28mself\u001b[39m._connection:\n\u001b[32m    507\u001b[39m     \u001b[38;5;28;01mreturn\u001b[39;00m \u001b[38;5;28;01mFalse\u001b[39;00m\n\u001b[32m--> \u001b[39m\u001b[32m509\u001b[39m \u001b[38;5;28;43mself\u001b[39;49m\u001b[43m.\u001b[49m\u001b[43m_connection\u001b[49m\u001b[43m.\u001b[49m\u001b[43mhandle_unread_result\u001b[49m\u001b[43m(\u001b[49m\u001b[43m)\u001b[49m\n\u001b[32m    510\u001b[39m \u001b[38;5;28mself\u001b[39m._warnings = \u001b[38;5;28;01mNone\u001b[39;00m\n\u001b[32m    511\u001b[39m \u001b[38;5;28mself\u001b[39m._connection = \u001b[38;5;28;01mNone\u001b[39;00m\n",
      "\u001b[36mFile \u001b[39m\u001b[32mc:\\Users\\angel.merino\\Documents\\proyectoCT\\.venv\\Lib\\site-packages\\mysql\\connector\\connection_cext.py:1105\u001b[39m, in \u001b[36mCMySQLConnection.handle_unread_result\u001b[39m\u001b[34m(self, prepared)\u001b[39m\n\u001b[32m   1103\u001b[39m     \u001b[38;5;28mself\u001b[39m.consume_results()\n\u001b[32m   1104\u001b[39m \u001b[38;5;28;01melif\u001b[39;00m unread_result:\n\u001b[32m-> \u001b[39m\u001b[32m1105\u001b[39m     \u001b[38;5;28;01mraise\u001b[39;00m InternalError(\u001b[33m\"\u001b[39m\u001b[33mUnread result found\u001b[39m\u001b[33m\"\u001b[39m)\n",
      "\u001b[31mInternalError\u001b[39m: Unread result found"
     ]
    }
   ],
   "source": [
    "productos = carga.products_vs()"
   ]
  },
  {
   "cell_type": "code",
   "execution_count": 3,
   "metadata": {},
   "outputs": [
    {
     "ename": "IndexError",
     "evalue": "list index out of range",
     "output_type": "error",
     "traceback": [
      "\u001b[31m---------------------------------------------------------------------------\u001b[39m",
      "\u001b[31mIndexError\u001b[39m                                Traceback (most recent call last)",
      "\u001b[36mCell\u001b[39m\u001b[36m \u001b[39m\u001b[32mIn[3]\u001b[39m\u001b[32m, line 1\u001b[39m\n\u001b[32m----> \u001b[39m\u001b[32m1\u001b[39m promociones_productos = \u001b[43mcarga\u001b[49m\u001b[43m.\u001b[49m\u001b[43msales_products_vs\u001b[49m\u001b[43m(\u001b[49m\u001b[43m)\u001b[49m\n",
      "\u001b[36mFile \u001b[39m\u001b[32m~\\Documents\\proyectoCT\\src\\ct\\ETL\\load.py:59\u001b[39m, in \u001b[36mLoad.sales_products_vs\u001b[39m\u001b[34m(self)\u001b[39m\n\u001b[32m     57\u001b[39m \u001b[38;5;28;01mdef\u001b[39;00m\u001b[38;5;250m \u001b[39m\u001b[34msales_products_vs\u001b[39m(\u001b[38;5;28mself\u001b[39m):\n\u001b[32m     58\u001b[39m     \u001b[38;5;66;03m# Load sales \u001b[39;00m\n\u001b[32m---> \u001b[39m\u001b[32m59\u001b[39m     sales = \u001b[38;5;28;43mself\u001b[39;49m\u001b[43m.\u001b[49m\u001b[43mload_sales\u001b[49m\u001b[43m(\u001b[49m\u001b[43m)\u001b[49m\n\u001b[32m     60\u001b[39m     \u001b[38;5;66;03m# Create the vector store\u001b[39;00m\n\u001b[32m     61\u001b[39m     vector_store = \u001b[38;5;28mself\u001b[39m.vector_store(sales)\n",
      "\u001b[36mFile \u001b[39m\u001b[32m~\\Documents\\proyectoCT\\src\\ct\\ETL\\load.py:32\u001b[39m, in \u001b[36mLoad.load_sales\u001b[39m\u001b[34m(self)\u001b[39m\n\u001b[32m     31\u001b[39m \u001b[38;5;28;01mdef\u001b[39;00m\u001b[38;5;250m \u001b[39m\u001b[34mload_sales\u001b[39m(\u001b[38;5;28mself\u001b[39m):\n\u001b[32m---> \u001b[39m\u001b[32m32\u001b[39m     sales = \u001b[38;5;28;43mself\u001b[39;49m\u001b[43m.\u001b[49m\u001b[43mclean_data\u001b[49m\u001b[43m.\u001b[49m\u001b[43mclean_sales\u001b[49m\u001b[43m(\u001b[49m\u001b[43m)\u001b[49m\n\u001b[32m     34\u001b[39m     sale = sales[\u001b[32m0\u001b[39m]\n\u001b[32m     35\u001b[39m     sales_features = [column \u001b[38;5;28;01mfor\u001b[39;00m column \u001b[38;5;129;01min\u001b[39;00m sale.keys()]\n",
      "\u001b[36mFile \u001b[39m\u001b[32m~\\Documents\\proyectoCT\\src\\ct\\ETL\\transform.py:116\u001b[39m, in \u001b[36mTransform.clean_sales\u001b[39m\u001b[34m(self)\u001b[39m\n\u001b[32m    114\u001b[39m         sale[\u001b[33m'\u001b[39m\u001b[33mfichaTecnica\u001b[39m\u001b[33m'\u001b[39m] = ficha[\u001b[33m'\u001b[39m\u001b[33mfichaTecnica\u001b[39m\u001b[33m'\u001b[39m]\n\u001b[32m    115\u001b[39m         sale[\u001b[33m'\u001b[39m\u001b[33mresumen\u001b[39m\u001b[33m'\u001b[39m] = ficha[\u001b[33m'\u001b[39m\u001b[33mresumen\u001b[39m\u001b[33m'\u001b[39m]\n\u001b[32m--> \u001b[39m\u001b[32m116\u001b[39m pprint.pprint(\u001b[43msales_dict\u001b[49m\u001b[43m[\u001b[49m\u001b[32;43m0\u001b[39;49m\u001b[43m]\u001b[49m.keys(), indent=\u001b[32m4\u001b[39m)\n\u001b[32m    117\u001b[39m pprint.pprint(sales_dict[\u001b[32m0\u001b[39m], indent=\u001b[32m4\u001b[39m)\n\u001b[32m    118\u001b[39m \u001b[38;5;28;01mreturn\u001b[39;00m sales_dict\n",
      "\u001b[31mIndexError\u001b[39m: list index out of range"
     ]
    }
   ],
   "source": [
    "promociones_productos = carga.sales_products_vs()"
   ]
  },
  {
   "cell_type": "code",
   "execution_count": null,
   "metadata": {},
   "outputs": [],
   "source": []
  }
 ],
 "metadata": {
  "kernelspec": {
   "display_name": ".venv",
   "language": "python",
   "name": "python3"
  },
  "language_info": {
   "codemirror_mode": {
    "name": "ipython",
    "version": 3
   },
   "file_extension": ".py",
   "mimetype": "text/x-python",
   "name": "python",
   "nbconvert_exporter": "python",
   "pygments_lexer": "ipython3",
   "version": "3.12.9"
  }
 },
 "nbformat": 4,
 "nbformat_minor": 2
}
