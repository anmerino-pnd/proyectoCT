{
 "cells": [
  {
   "cell_type": "code",
   "execution_count": 1,
   "metadata": {},
   "outputs": [],
   "source": [
    "from ct.ETL.load import Load"
   ]
  },
  {
   "cell_type": "code",
   "execution_count": 2,
   "metadata": {},
   "outputs": [],
   "source": [
    "carga = Load()"
   ]
  },
  {
   "cell_type": "code",
   "execution_count": 3,
   "metadata": {},
   "outputs": [
    {
     "name": "stdout",
     "output_type": "stream",
     "text": [
      "Productos transformados obtenidos.\n",
      "Cantidad de claves únicas: 5149\n"
     ]
    },
    {
     "ename": "RuntimeError",
     "evalue": "[ACCCDP070] Error inesperado: [ACCCDP070] Error en respuesta: False",
     "output_type": "error",
     "traceback": [
      "\u001b[31m---------------------------------------------------------------------------\u001b[39m",
      "\u001b[31mRuntimeError\u001b[39m                              Traceback (most recent call last)",
      "\u001b[36mFile \u001b[39m\u001b[32m~\\Documents\\proyectoCT\\src\\ct\\ETL\\extraction.py:241\u001b[39m, in \u001b[36mExtraction.get_specifications_cloudscraper\u001b[39m\u001b[34m(self, claves)\u001b[39m\n\u001b[32m    240\u001b[39m     mensaje = respuesta.get(\u001b[33m\"\u001b[39m\u001b[33mmensaje\u001b[39m\u001b[33m\"\u001b[39m, \u001b[33m\"\u001b[39m\u001b[33mError no especificado\u001b[39m\u001b[33m\"\u001b[39m)\n\u001b[32m--> \u001b[39m\u001b[32m241\u001b[39m     \u001b[38;5;28;01mraise\u001b[39;00m \u001b[38;5;167;01mRuntimeError\u001b[39;00m(\u001b[33mf\u001b[39m\u001b[33m\"\u001b[39m\u001b[33m[\u001b[39m\u001b[38;5;132;01m{\u001b[39;00mclave\u001b[38;5;132;01m}\u001b[39;00m\u001b[33m] Error en respuesta: \u001b[39m\u001b[38;5;132;01m{\u001b[39;00mmensaje\u001b[38;5;132;01m}\u001b[39;00m\u001b[33m\"\u001b[39m)\n\u001b[32m    242\u001b[39m \u001b[38;5;28;01melse\u001b[39;00m:\n",
      "\u001b[31mRuntimeError\u001b[39m: [ACCCDP070] Error en respuesta: False",
      "\nDuring handling of the above exception, another exception occurred:\n",
      "\u001b[31mRuntimeError\u001b[39m                              Traceback (most recent call last)",
      "\u001b[36mCell\u001b[39m\u001b[36m \u001b[39m\u001b[32mIn[3]\u001b[39m\u001b[32m, line 1\u001b[39m\n\u001b[32m----> \u001b[39m\u001b[32m1\u001b[39m productos = \u001b[43mcarga\u001b[49m\u001b[43m.\u001b[49m\u001b[43mproducts_vs\u001b[49m\u001b[43m(\u001b[49m\u001b[43m)\u001b[49m\n",
      "\u001b[36mFile \u001b[39m\u001b[32m~\\Documents\\proyectoCT\\src\\ct\\ETL\\load.py:50\u001b[39m, in \u001b[36mLoad.products_vs\u001b[39m\u001b[34m(self)\u001b[39m\n\u001b[32m     48\u001b[39m \u001b[38;5;28;01mdef\u001b[39;00m\u001b[38;5;250m \u001b[39m\u001b[34mproducts_vs\u001b[39m(\u001b[38;5;28mself\u001b[39m):\n\u001b[32m     49\u001b[39m     \u001b[38;5;66;03m# Load products \u001b[39;00m\n\u001b[32m---> \u001b[39m\u001b[32m50\u001b[39m     products = \u001b[38;5;28;43mself\u001b[39;49m\u001b[43m.\u001b[49m\u001b[43mload_products\u001b[49m\u001b[43m(\u001b[49m\u001b[43m)\u001b[49m\n\u001b[32m     52\u001b[39m     \u001b[38;5;66;03m# --- Batch size ---\u001b[39;00m\n\u001b[32m     53\u001b[39m     batch_size = \u001b[32m1000\u001b[39m\n",
      "\u001b[36mFile \u001b[39m\u001b[32m~\\Documents\\proyectoCT\\src\\ct\\ETL\\load.py:18\u001b[39m, in \u001b[36mLoad.load_products\u001b[39m\u001b[34m(self)\u001b[39m\n\u001b[32m     17\u001b[39m \u001b[38;5;28;01mdef\u001b[39;00m\u001b[38;5;250m \u001b[39m\u001b[34mload_products\u001b[39m(\u001b[38;5;28mself\u001b[39m):\n\u001b[32m---> \u001b[39m\u001b[32m18\u001b[39m     products = \u001b[38;5;28;43mself\u001b[39;49m\u001b[43m.\u001b[49m\u001b[43mclean_data\u001b[49m\u001b[43m.\u001b[49m\u001b[43mclean_products\u001b[49m\u001b[43m(\u001b[49m\u001b[43m)\u001b[49m  \u001b[38;5;66;03m# Ahora sabemos que es una lista\u001b[39;00m\n\u001b[32m     20\u001b[39m     product = products[\u001b[32m0\u001b[39m]  \u001b[38;5;66;03m# Tomamos el primer elemento directamente\u001b[39;00m\n\u001b[32m     21\u001b[39m     product_features = [column \u001b[38;5;28;01mfor\u001b[39;00m column \u001b[38;5;129;01min\u001b[39;00m product.keys()]\n",
      "\u001b[36mFile \u001b[39m\u001b[32m~\\Documents\\proyectoCT\\src\\ct\\ETL\\transform.py:76\u001b[39m, in \u001b[36mTransform.clean_products\u001b[39m\u001b[34m(self)\u001b[39m\n\u001b[32m     74\u001b[39m claves = products[\u001b[33m'\u001b[39m\u001b[33mclave\u001b[39m\u001b[33m'\u001b[39m].unique().tolist()\n\u001b[32m     75\u001b[39m \u001b[38;5;28mprint\u001b[39m(\u001b[33mf\u001b[39m\u001b[33m\"\u001b[39m\u001b[33mCantidad de claves únicas: \u001b[39m\u001b[38;5;132;01m{\u001b[39;00m\u001b[38;5;28mlen\u001b[39m(claves)\u001b[38;5;132;01m}\u001b[39;00m\u001b[33m\"\u001b[39m)\n\u001b[32m---> \u001b[39m\u001b[32m76\u001b[39m specs = \u001b[38;5;28;43mself\u001b[39;49m\u001b[43m.\u001b[49m\u001b[43mdata\u001b[49m\u001b[43m.\u001b[49m\u001b[43mget_specifications\u001b[49m\u001b[43m(\u001b[49m\u001b[43mclaves\u001b[49m\u001b[43m)\u001b[49m\n\u001b[32m     77\u001b[39m \u001b[38;5;28mprint\u001b[39m(\u001b[33m\"\u001b[39m\u001b[33mEspecificaciones obtenidas.\u001b[39m\u001b[33m\"\u001b[39m)\n\u001b[32m     78\u001b[39m fichas_tecnicas = \u001b[38;5;28mself\u001b[39m.transform_specifications(specs)\n",
      "\u001b[36mFile \u001b[39m\u001b[32m~\\Documents\\proyectoCT\\src\\ct\\ETL\\extraction.py:275\u001b[39m, in \u001b[36mExtraction.get_specifications\u001b[39m\u001b[34m(self, claves)\u001b[39m\n\u001b[32m    274\u001b[39m \u001b[38;5;28;01mdef\u001b[39;00m\u001b[38;5;250m \u001b[39m\u001b[34mget_specifications\u001b[39m(\u001b[38;5;28mself\u001b[39m, claves: \u001b[38;5;28mlist\u001b[39m) -> \u001b[38;5;28mdict\u001b[39m:\n\u001b[32m--> \u001b[39m\u001b[32m275\u001b[39m   \u001b[38;5;28;01mreturn\u001b[39;00m \u001b[38;5;28;43mself\u001b[39;49m\u001b[43m.\u001b[49m\u001b[43mget_specifications_cloudscraper\u001b[49m\u001b[43m(\u001b[49m\u001b[43mclaves\u001b[49m\u001b[43m)\u001b[49m\n",
      "\u001b[36mFile \u001b[39m\u001b[32m~\\Documents\\proyectoCT\\src\\ct\\ETL\\extraction.py:269\u001b[39m, in \u001b[36mExtraction.get_specifications_cloudscraper\u001b[39m\u001b[34m(self, claves)\u001b[39m\n\u001b[32m    267\u001b[39m         \u001b[38;5;28;01mraise\u001b[39;00m \u001b[38;5;167;01mRuntimeError\u001b[39;00m(\u001b[33mf\u001b[39m\u001b[33m\"\u001b[39m\u001b[33m[\u001b[39m\u001b[38;5;132;01m{\u001b[39;00mclave\u001b[38;5;132;01m}\u001b[39;00m\u001b[33m] CloudflareException: \u001b[39m\u001b[38;5;132;01m{\u001b[39;00me\u001b[38;5;132;01m}\u001b[39;00m\u001b[33m\"\u001b[39m)\n\u001b[32m    268\u001b[39m     \u001b[38;5;28;01mexcept\u001b[39;00m \u001b[38;5;167;01mException\u001b[39;00m \u001b[38;5;28;01mas\u001b[39;00m e:\n\u001b[32m--> \u001b[39m\u001b[32m269\u001b[39m         \u001b[38;5;28;01mraise\u001b[39;00m \u001b[38;5;167;01mRuntimeError\u001b[39;00m(\u001b[33mf\u001b[39m\u001b[33m\"\u001b[39m\u001b[33m[\u001b[39m\u001b[38;5;132;01m{\u001b[39;00mclave\u001b[38;5;132;01m}\u001b[39;00m\u001b[33m] Error inesperado: \u001b[39m\u001b[38;5;132;01m{\u001b[39;00me\u001b[38;5;132;01m}\u001b[39;00m\u001b[33m\"\u001b[39m)\n\u001b[32m    271\u001b[39m \u001b[38;5;28;01mreturn\u001b[39;00m specs\n",
      "\u001b[31mRuntimeError\u001b[39m: [ACCCDP070] Error inesperado: [ACCCDP070] Error en respuesta: False"
     ]
    }
   ],
   "source": [
    "productos = carga.products_vs()"
   ]
  },
  {
   "cell_type": "markdown",
   "metadata": {},
   "source": [
    "> 75 min -> 5149 docs"
   ]
  },
  {
   "cell_type": "code",
   "execution_count": 3,
   "metadata": {},
   "outputs": [
    {
     "name": "stdout",
     "output_type": "stream",
     "text": [
      "dict_keys(['nombre', 'clave', 'categoria', 'marca', 'tipo', 'modelo', 'detalles', 'precio_oferta', 'descuento', 'EnCompraDE', 'Unidades', 'limitadoA', 'fecha_inicio', 'fecha_fin', 'lista_precios', 'moneda', 'fichaTecnica', 'resumen'])\n",
      "{   'EnCompraDE': '10',\n",
      "    'Unidades': '1',\n",
      "    'categoria': 'Limpieza',\n",
      "    'clave': 'ACCMST095',\n",
      "    'descuento': '0.0%',\n",
      "    'detalles': 'Tipo: Toallas limpiadoras para Celulares y Portátiles& Tipo: '\n",
      "                'Antiestáticas& Contenido: 10 toallas& Dimensiones: 15 x 1,5 x '\n",
      "                '7,3 cm& Peso: 0,03 kg TOALLAS LIMPIADORAS '\n",
      "                'PC-030324            ACCMST095, PC-030324, Toallas '\n",
      "                'Limpiadoras, PC-030324, PERFECT CHOICE, Accesorios para '\n",
      "                'Electronica, Limpieza, Toallas limpiadoras PERFECT CHOICE, '\n",
      "                'Paños húmedos, Pantallas / Plásticos, Poliéster, PC030324, '\n",
      "                'ACC, MST, ACCMST, PC-030324, PC-0303240, Toallas Limpiadoras',\n",
      "    'fecha_fin': '2025-05-31',\n",
      "    'fecha_inicio': '2025-05-10',\n",
      "    'fichaTecnica': {   'Altura del paquete': '7,3 cm',\n",
      "                        'Ancho': '19 cm',\n",
      "                        'Ancho del paquete': '15 cm',\n",
      "                        'Materiales': 'Poliéster',\n",
      "                        'Peso del paquete': '30 g',\n",
      "                        'Profundidad': '17 cm',\n",
      "                        'Profundidad del paquete': '1,5 cm',\n",
      "                        'Sustancia': 'Paños húmedos',\n",
      "                        'Uso adecuado': 'Pantallas / Plásticos'},\n",
      "    'limitadoA': '0',\n",
      "    'lista_precios': '[{\"listaPrecio\": 1, \"precio\": 18.58},{\"listaPrecio\": 2, '\n",
      "                     '\"precio\": 18.17},{\"listaPrecio\": 3, \"precio\": '\n",
      "                     '18.17},{\"listaPrecio\": 4, \"precio\": '\n",
      "                     '18.58},{\"listaPrecio\": 5, \"precio\": '\n",
      "                     '18.58},{\"listaPrecio\": 6, \"precio\": '\n",
      "                     '19.73},{\"listaPrecio\": 8, \"precio\": '\n",
      "                     '18.17},{\"listaPrecio\": 9, \"precio\": 18.17}]',\n",
      "    'marca': 'PERFECT CHOICE',\n",
      "    'modelo': 'PC-030324',\n",
      "    'moneda': '1',\n",
      "    'nombre': 'Toallas limpiadoras PERFECT CHOICE, Paños húmedos, Pantallas / '\n",
      "              'Plásticos, Poliéster',\n",
      "    'precio_oferta': '0.0',\n",
      "    'resumen': {   'LongSummary': 'Perfect Choice PC-030324. Sustancia: Paños '\n",
      "                                  'húmedos, Uso adecuado: Pantallas / '\n",
      "                                  'Plásticos, Materiales: Poliéster. Ancho: 19 '\n",
      "                                  'cm, Profundidad: 17 cm, Ancho del paquete: '\n",
      "                                  '15 cm',\n",
      "                   'ShortSummary': 'Perfect Choice PC-030324, Paños húmedos, '\n",
      "                                   'Pantallas / Plásticos, Poliéster'},\n",
      "    'tipo': 'Toallas Limpiadoras'}\n",
      "Merged vector store created and saved to disk.\n"
     ]
    }
   ],
   "source": [
    "promociones_productos = carga.sales_products_vs()"
   ]
  },
  {
   "cell_type": "code",
   "execution_count": null,
   "metadata": {},
   "outputs": [],
   "source": []
  }
 ],
 "metadata": {
  "kernelspec": {
   "display_name": ".venv",
   "language": "python",
   "name": "python3"
  },
  "language_info": {
   "codemirror_mode": {
    "name": "ipython",
    "version": 3
   },
   "file_extension": ".py",
   "mimetype": "text/x-python",
   "name": "python",
   "nbconvert_exporter": "python",
   "pygments_lexer": "ipython3",
   "version": "3.12.9"
  }
 },
 "nbformat": 4,
 "nbformat_minor": 2
}
