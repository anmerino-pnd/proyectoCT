{
 "cells": [
  {
   "cell_type": "code",
   "execution_count": 1,
   "metadata": {},
   "outputs": [],
   "source": [
    "from ct.ETL.load import Load"
   ]
  },
  {
   "cell_type": "code",
   "execution_count": 2,
   "metadata": {},
   "outputs": [],
   "source": [
    "carga = Load()"
   ]
  },
  {
   "cell_type": "code",
   "execution_count": 3,
   "metadata": {},
   "outputs": [
    {
     "name": "stdout",
     "output_type": "stream",
     "text": [
      "Advertencia: La clave ACCCDP070 no tiene un formato esperado y será omitida.\n",
      "Advertencia: La clave ACCPCM020 no tiene un formato esperado y será omitida.\n",
      "Advertencia: La clave ACCPCM090 no tiene un formato esperado y será omitida.\n",
      "Advertencia: La clave ACCPCM180 no tiene un formato esperado y será omitida.\n",
      "Advertencia: La clave ACCPCM220 no tiene un formato esperado y será omitida.\n",
      "Advertencia: La clave BATCDP020 no tiene un formato esperado y será omitida.\n",
      "dict_keys(['idProductos', 'nombre', 'clave', 'categoria', 'marca', 'tipo', 'modelo', 'detalles', 'detalles_precio', 'moneda', 'fichaTecnica', 'resumen'])\n",
      "{   'categoria': 'Bobinas',\n",
      "    'clave': 'ACCCDM1010',\n",
      "    'detalles': '664464 CABLE UTP CAT 5E EXT/GEL 305M NEG ACCCDM1010, Cable '\n",
      "                'UTP, Bobinas, CONDUMEX, condumex, bobinas, cables, red, utp, '\n",
      "                'estructurado, cat5, cat6, interior, exterior, cobre, ACC, '\n",
      "                'CDM, ACCCDM',\n",
      "    'detalles_precio': [   {'listaPrecio': 1, 'precio': 3000},\n",
      "                           {'listaPrecio': 2, 'precio': 3000},\n",
      "                           {'listaPrecio': 3, 'precio': 3000},\n",
      "                           {'listaPrecio': 4, 'precio': 3000},\n",
      "                           {'listaPrecio': 5, 'precio': 3000},\n",
      "                           {'listaPrecio': 6, 'precio': 3009},\n",
      "                           {'listaPrecio': 8, 'precio': 3000},\n",
      "                           {'listaPrecio': 9, 'precio': 3000}],\n",
      "    'fichaTecnica': {   'Blindaje de cable': 'U/UTP (UTP)',\n",
      "                        'Cable estándar': 'Cat5e',\n",
      "                        'Color del producto': 'Negro',\n",
      "                        'Conector 1': 'No',\n",
      "                        'Conector 2': 'No',\n",
      "                        'Estándares de red': 'IEEE 802.3, IEEE 802.3ab',\n",
      "                        'Longitud de cable': '305 m',\n",
      "                        'Peso': '35 kg',\n",
      "                        'Tecnología de cableado': '10/100/1000Base-T(X)',\n",
      "                        'Tipo de género': 'Macho/Macho',\n",
      "                        'Velocidad de transferencia de datos': '155 Mbit/s'},\n",
      "    'idProductos': 132,\n",
      "    'marca': 'CONDUMEX',\n",
      "    'modelo': '664464',\n",
      "    'moneda': 1,\n",
      "    'nombre': 'Cable UTP CAT5e para exterior , 4 pares, bobina de 305 mts, '\n",
      "              '100% cobre, color negro ',\n",
      "    'resumen': {   'LongSummary': 'Condumex 305m, UTP. Longitud de cable: 305 '\n",
      "                                  'm, Cable estándar: Cat5e, Tipo de género: '\n",
      "                                  'Macho/Macho. Peso: 35 kg',\n",
      "                   'ShortSummary': 'Condumex 305m, UTP, Macho/Macho, '\n",
      "                                   '10/100/1000Base-T(X), Cat5e, U/UTP (UTP), '\n",
      "                                   'Negro, IEEE 802.3, IEEE 802.3ab'},\n",
      "    'tipo': 'Cable UTP'}\n",
      "Vector store created and saved to disk.\n"
     ]
    }
   ],
   "source": [
    "productos = carga.products_vs()"
   ]
  },
  {
   "cell_type": "code",
   "execution_count": 4,
   "metadata": {},
   "outputs": [
    {
     "name": "stdout",
     "output_type": "stream",
     "text": [
      "Advertencia: La clave TONKYC1610 no tiene un formato esperado y será omitida.\n",
      "Advertencia: La clave TONKYC1620 no tiene un formato esperado y será omitida.\n",
      "Advertencia: La clave TONKYC1640 no tiene un formato esperado y será omitida.\n",
      "Advertencia: La clave CAMNEX090 no tiene un formato esperado y será omitida.\n",
      "Advertencia: La clave ACCNEX330 no tiene un formato esperado y será omitida.\n",
      "Advertencia: La clave SOFAPL5880 no tiene un formato esperado y será omitida.\n",
      "Advertencia: La clave SOFAPL5890 no tiene un formato esperado y será omitida.\n",
      "Advertencia: La clave SOFAPL5900 no tiene un formato esperado y será omitida.\n",
      "Advertencia: La clave SOFAPL5910 no tiene un formato esperado y será omitida.\n",
      "Advertencia: La clave SOFAPL5920 no tiene un formato esperado y será omitida.\n",
      "Advertencia: La clave SOFAPL5930 no tiene un formato esperado y será omitida.\n",
      "Advertencia: La clave SOFAPL5940 no tiene un formato esperado y será omitida.\n",
      "Advertencia: La clave SOFAPL5950 no tiene un formato esperado y será omitida.\n",
      "Advertencia: La clave SOFAPL5960 no tiene un formato esperado y será omitida.\n",
      "Advertencia: La clave SOFAPL5970 no tiene un formato esperado y será omitida.\n",
      "Advertencia: La clave SOFAVZ070 no tiene un formato esperado y será omitida.\n",
      "Advertencia: La clave ACCGDM130 no tiene un formato esperado y será omitida.\n",
      "Advertencia: La clave ACCGEN3080 no tiene un formato esperado y será omitida.\n",
      "Advertencia: La clave ACCGEN470 no tiene un formato esperado y será omitida.\n",
      "Advertencia: La clave ACCGEN530 no tiene un formato esperado y será omitida.\n",
      "Advertencia: La clave ACCGEN510 no tiene un formato esperado y será omitida.\n",
      "Advertencia: La clave ACCGEN500 no tiene un formato esperado y será omitida.\n",
      "Advertencia: La clave ACCGEN520 no tiene un formato esperado y será omitida.\n",
      "Advertencia: La clave ACCGEN3060 no tiene un formato esperado y será omitida.\n",
      "Advertencia: La clave ACCGEN400 no tiene un formato esperado y será omitida.\n",
      "Advertencia: La clave ACCGEN3050 no tiene un formato esperado y será omitida.\n",
      "Advertencia: La clave ACCGEN3040 no tiene un formato esperado y será omitida.\n",
      "Advertencia: La clave ACCGEN2970 no tiene un formato esperado y será omitida.\n",
      "Advertencia: La clave ACCGEN2950 no tiene un formato esperado y será omitida.\n",
      "Advertencia: La clave ACCGEN3070 no tiene un formato esperado y será omitida.\n",
      "Advertencia: La clave ACCGEN3010 no tiene un formato esperado y será omitida.\n",
      "dict_keys(['idProducto', 'nombre', 'producto', 'categoria', 'marca', 'tipo', 'modelo', 'detalles', 'precio_oferta', 'descuento', 'EnCompraDE', 'Unidades', 'limitadoA', 'fecha_inicio', 'fecha_fin', 'lista_precios', 'moneda', 'fichaTecnica', 'resumen'])\n",
      "{   'EnCompraDE': '0',\n",
      "    'Unidades': '0',\n",
      "    'categoria': 'Administración y Finanzas',\n",
      "    'descuento': '15.0%',\n",
      "    'detalles': 'PAQUETE FACTE/400 TIMBRES ASPEL SOFAPL1480, FACTE/400, '\n",
      "                'Timbres Fiscales, ASPEL, Software Administrativo, Sistemas '\n",
      "                'Contables, Timbres fiscales ASPEL, 512 MB, Intel Pentium '\n",
      "                '550MHz, Windows XP, 2000, 2003, 2.0, FACTE/400, SOF, APL, '\n",
      "                'SOFAPL',\n",
      "    'fecha_fin': '2025-04-16',\n",
      "    'fecha_inicio': '2025-04-01',\n",
      "    'fichaTecnica': {},\n",
      "    'idProducto': 7906,\n",
      "    'limitadoA': '0',\n",
      "    'lista_precios': '[{\"listaPrecio\": 1, \"precio\": 547.63},{\"listaPrecio\": 2, '\n",
      "                     '\"precio\": 547.63},{\"listaPrecio\": 3, \"precio\": '\n",
      "                     '547.63},{\"listaPrecio\": 4, \"precio\": '\n",
      "                     '547.63},{\"listaPrecio\": 5, \"precio\": '\n",
      "                     '547.63},{\"listaPrecio\": 6, \"precio\": '\n",
      "                     '583.22},{\"listaPrecio\": 8, \"precio\": '\n",
      "                     '547.63},{\"listaPrecio\": 9, \"precio\": 547.63}]',\n",
      "    'marca': 'ASPEL',\n",
      "    'modelo': '-',\n",
      "    'moneda': '1',\n",
      "    'nombre': 'Timbres Fiscales ASPEL Paquete de 400 Timbres FACTE/400 '\n",
      "              '(Electrónico)',\n",
      "    'precio_oferta': '0.0',\n",
      "    'producto': 'SOFAPL1480',\n",
      "    'resumen': {},\n",
      "    'tipo': 'Timbres Electrónicos'}\n",
      "Merged vector store created and saved to disk.\n"
     ]
    }
   ],
   "source": [
    "promociones_productos = carga.sales_products_vs()"
   ]
  },
  {
   "cell_type": "code",
   "execution_count": null,
   "metadata": {},
   "outputs": [],
   "source": []
  }
 ],
 "metadata": {
  "kernelspec": {
   "display_name": ".venv",
   "language": "python",
   "name": "python3"
  },
  "language_info": {
   "codemirror_mode": {
    "name": "ipython",
    "version": 3
   },
   "file_extension": ".py",
   "mimetype": "text/x-python",
   "name": "python",
   "nbconvert_exporter": "python",
   "pygments_lexer": "ipython3",
   "version": "3.12.9"
  }
 },
 "nbformat": 4,
 "nbformat_minor": 2
}
