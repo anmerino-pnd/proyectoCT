{
 "cells": [
  {
   "cell_type": "code",
   "execution_count": 1,
   "metadata": {},
   "outputs": [],
   "source": [
    "from ct.ETL.load import Load"
   ]
  },
  {
   "cell_type": "code",
   "execution_count": 2,
   "metadata": {},
   "outputs": [],
   "source": [
    "carga = Load()"
   ]
  },
  {
   "cell_type": "code",
   "execution_count": null,
   "metadata": {},
   "outputs": [
    {
     "name": "stdout",
     "output_type": "stream",
     "text": [
      "Productos transformados obtenidos.\n",
      "Cantidad de claves únicas: 5149\n"
     ]
    }
   ],
   "source": [
    "productos = carga.products_vs()"
   ]
  },
  {
   "cell_type": "markdown",
   "metadata": {},
   "source": [
    "> 75 min -> 5149 docs"
   ]
  },
  {
   "cell_type": "code",
   "execution_count": 3,
   "metadata": {},
   "outputs": [
    {
     "name": "stdout",
     "output_type": "stream",
     "text": [
      "dict_keys(['nombre', 'clave', 'categoria', 'marca', 'tipo', 'modelo', 'detalles', 'precio_oferta', 'descuento', 'EnCompraDE', 'Unidades', 'limitadoA', 'fecha_inicio', 'fecha_fin', 'lista_precios', 'moneda', 'fichaTecnica', 'resumen'])\n",
      "{   'EnCompraDE': '10',\n",
      "    'Unidades': '1',\n",
      "    'categoria': 'Limpieza',\n",
      "    'clave': 'ACCMST095',\n",
      "    'descuento': '0.0%',\n",
      "    'detalles': 'Tipo: Toallas limpiadoras para Celulares y Portátiles& Tipo: '\n",
      "                'Antiestáticas& Contenido: 10 toallas& Dimensiones: 15 x 1,5 x '\n",
      "                '7,3 cm& Peso: 0,03 kg TOALLAS LIMPIADORAS '\n",
      "                'PC-030324            ACCMST095, PC-030324, Toallas '\n",
      "                'Limpiadoras, PC-030324, PERFECT CHOICE, Accesorios para '\n",
      "                'Electronica, Limpieza, Toallas limpiadoras PERFECT CHOICE, '\n",
      "                'Paños húmedos, Pantallas / Plásticos, Poliéster, PC030324, '\n",
      "                'ACC, MST, ACCMST, PC-030324, PC-0303240, Toallas Limpiadoras',\n",
      "    'fecha_fin': '2025-05-31',\n",
      "    'fecha_inicio': '2025-05-10',\n",
      "    'fichaTecnica': {   'Altura del paquete': '7,3 cm',\n",
      "                        'Ancho': '19 cm',\n",
      "                        'Ancho del paquete': '15 cm',\n",
      "                        'Materiales': 'Poliéster',\n",
      "                        'Peso del paquete': '30 g',\n",
      "                        'Profundidad': '17 cm',\n",
      "                        'Profundidad del paquete': '1,5 cm',\n",
      "                        'Sustancia': 'Paños húmedos',\n",
      "                        'Uso adecuado': 'Pantallas / Plásticos'},\n",
      "    'limitadoA': '0',\n",
      "    'lista_precios': '[{\"listaPrecio\": 1, \"precio\": 18.58},{\"listaPrecio\": 2, '\n",
      "                     '\"precio\": 18.17},{\"listaPrecio\": 3, \"precio\": '\n",
      "                     '18.17},{\"listaPrecio\": 4, \"precio\": '\n",
      "                     '18.58},{\"listaPrecio\": 5, \"precio\": '\n",
      "                     '18.58},{\"listaPrecio\": 6, \"precio\": '\n",
      "                     '19.73},{\"listaPrecio\": 8, \"precio\": '\n",
      "                     '18.17},{\"listaPrecio\": 9, \"precio\": 18.17}]',\n",
      "    'marca': 'PERFECT CHOICE',\n",
      "    'modelo': 'PC-030324',\n",
      "    'moneda': '1',\n",
      "    'nombre': 'Toallas limpiadoras PERFECT CHOICE, Paños húmedos, Pantallas / '\n",
      "              'Plásticos, Poliéster',\n",
      "    'precio_oferta': '0.0',\n",
      "    'resumen': {   'LongSummary': 'Perfect Choice PC-030324. Sustancia: Paños '\n",
      "                                  'húmedos, Uso adecuado: Pantallas / '\n",
      "                                  'Plásticos, Materiales: Poliéster. Ancho: 19 '\n",
      "                                  'cm, Profundidad: 17 cm, Ancho del paquete: '\n",
      "                                  '15 cm',\n",
      "                   'ShortSummary': 'Perfect Choice PC-030324, Paños húmedos, '\n",
      "                                   'Pantallas / Plásticos, Poliéster'},\n",
      "    'tipo': 'Toallas Limpiadoras'}\n",
      "Merged vector store created and saved to disk.\n"
     ]
    }
   ],
   "source": [
    "promociones_productos = carga.sales_products_vs()"
   ]
  },
  {
   "cell_type": "code",
   "execution_count": null,
   "metadata": {},
   "outputs": [],
   "source": []
  }
 ],
 "metadata": {
  "kernelspec": {
   "display_name": ".venv",
   "language": "python",
   "name": "python3"
  },
  "language_info": {
   "codemirror_mode": {
    "name": "ipython",
    "version": 3
   },
   "file_extension": ".py",
   "mimetype": "text/x-python",
   "name": "python",
   "nbconvert_exporter": "python",
   "pygments_lexer": "ipython3",
   "version": "3.12.9"
  }
 },
 "nbformat": 4,
 "nbformat_minor": 2
}
