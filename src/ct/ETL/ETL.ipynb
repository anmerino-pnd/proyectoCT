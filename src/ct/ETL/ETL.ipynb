{
 "cells": [
  {
   "cell_type": "code",
   "execution_count": 1,
   "metadata": {},
   "outputs": [],
   "source": [
    "from ct.ETL.load import Load"
   ]
  },
  {
   "cell_type": "code",
   "execution_count": 2,
   "metadata": {},
   "outputs": [],
   "source": [
    "carga = Load()"
   ]
  },
  {
   "cell_type": "code",
   "execution_count": null,
   "metadata": {},
   "outputs": [],
   "source": [
    "productos = carga.products_vs()"
   ]
  },
  {
   "cell_type": "code",
   "execution_count": 4,
   "metadata": {},
   "outputs": [
    {
     "name": "stdout",
     "output_type": "stream",
     "text": [
      "Usando cloudscraper para obtener especificaciones...\n",
      "Intentando obtener clave: SOFAPL1480\n",
      "Respuesta recibida para SOFAPL1480, status: 200\n",
      "JSON decodificado exitosamente para SOFAPL1480\n",
      "Intentando obtener clave: SOFAPL2920\n",
      "Respuesta recibida para SOFAPL2920, status: 200\n",
      "JSON decodificado exitosamente para SOFAPL2920\n",
      "Intentando obtener clave: SOFAPL2930\n",
      "Respuesta recibida para SOFAPL2930, status: 200\n",
      "JSON decodificado exitosamente para SOFAPL2930\n",
      "dict_keys(['idProducto', 'nombre', 'producto', 'categoria', 'marca', 'tipo', 'modelo', 'detalles', 'precio_oferta', 'descuento', 'EnCompraDE', 'Unidades', 'limitadoA', 'fecha_inicio', 'fecha_fin', 'lista_precios', 'moneda', 'fichaTecnica', 'resumen'])\n",
      "{   'EnCompraDE': '0',\n",
      "    'Unidades': '0',\n",
      "    'categoria': 'Administración y Finanzas',\n",
      "    'descuento': '15.0%',\n",
      "    'detalles': 'PAQUETE FACTE/400 TIMBRES ASPEL SOFAPL1480, FACTE/400, '\n",
      "                'Timbres Fiscales, ASPEL, Software Administrativo, Sistemas '\n",
      "                'Contables, Timbres fiscales ASPEL, 512 MB, Intel Pentium '\n",
      "                '550MHz, Windows XP, 2000, 2003, 2.0, FACTE/400, SOF, APL, '\n",
      "                'SOFAPL',\n",
      "    'fecha_fin': '2025-04-16',\n",
      "    'fecha_inicio': '2025-04-01',\n",
      "    'fichaTecnica': {},\n",
      "    'idProducto': 7906,\n",
      "    'limitadoA': '0',\n",
      "    'lista_precios': '[{\"listaPrecio\": 1, \"precio\": 547.63},{\"listaPrecio\": 2, '\n",
      "                     '\"precio\": 547.63},{\"listaPrecio\": 3, \"precio\": '\n",
      "                     '547.63},{\"listaPrecio\": 4, \"precio\": '\n",
      "                     '547.63},{\"listaPrecio\": 5, \"precio\": '\n",
      "                     '547.63},{\"listaPrecio\": 6, \"precio\": '\n",
      "                     '583.22},{\"listaPrecio\": 8, \"precio\": '\n",
      "                     '547.63},{\"listaPrecio\": 9, \"precio\": 547.63}]',\n",
      "    'marca': 'ASPEL',\n",
      "    'modelo': '-',\n",
      "    'moneda': '1',\n",
      "    'nombre': 'Timbres Fiscales ASPEL Paquete de 400 Timbres FACTE/400 '\n",
      "              '(Electrónico)',\n",
      "    'precio_oferta': '0.0',\n",
      "    'producto': 'SOFAPL1480',\n",
      "    'resumen': {},\n",
      "    'tipo': 'Timbres Electrónicos'}\n",
      "Merged vector store created and saved to disk.\n"
     ]
    }
   ],
   "source": [
    "promociones_productos = carga.sales_products_vs()"
   ]
  },
  {
   "cell_type": "code",
   "execution_count": null,
   "metadata": {},
   "outputs": [],
   "source": []
  }
 ],
 "metadata": {
  "kernelspec": {
   "display_name": ".venv",
   "language": "python",
   "name": "python3"
  },
  "language_info": {
   "codemirror_mode": {
    "name": "ipython",
    "version": 3
   },
   "file_extension": ".py",
   "mimetype": "text/x-python",
   "name": "python",
   "nbconvert_exporter": "python",
   "pygments_lexer": "ipython3",
   "version": "3.12.9"
  }
 },
 "nbformat": 4,
 "nbformat_minor": 2
}
